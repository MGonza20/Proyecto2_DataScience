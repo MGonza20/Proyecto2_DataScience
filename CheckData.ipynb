{
  "cells": [
    {
      "cell_type": "markdown",
      "metadata": {
        "id": "OebRZoOc-vBR"
      },
      "source": [
        "#### Revisar la data"
      ]
    },
    {
      "cell_type": "code",
      "source": [
        "from google.colab import drive\n",
        "drive.mount('/content/drive')"
      ],
      "metadata": {
        "id": "OcE9JJQy-1jg",
        "outputId": "dd3ee89a-23fe-4fa9-b3ed-5afcac059aa1",
        "colab": {
          "base_uri": "https://localhost:8080/"
        }
      },
      "execution_count": 112,
      "outputs": [
        {
          "output_type": "stream",
          "name": "stdout",
          "text": [
            "Drive already mounted at /content/drive; to attempt to forcibly remount, call drive.mount(\"/content/drive\", force_remount=True).\n"
          ]
        }
      ]
    },
    {
      "cell_type": "code",
      "execution_count": 113,
      "metadata": {
        "id": "hFWheYIA-vBW"
      },
      "outputs": [],
      "source": [
        "# Importar librerías necesarias\n",
        "import pandas as pd"
      ]
    },
    {
      "cell_type": "code",
      "execution_count": 114,
      "metadata": {
        "id": "oK1wfSn9-vBZ",
        "outputId": "bf26291b-0344-4880-c9a9-e91e71405cf3",
        "colab": {
          "base_uri": "https://localhost:8080/",
          "height": 424
        }
      },
      "outputs": [
        {
          "output_type": "execute_result",
          "data": {
            "text/plain": [
              "                              filename growth_stage damage  extent  season\n",
              "0       L398F01276C01S07896Rp26856.jpg            F     DR       0  LR2021\n",
              "1       L355F02268C02S08916Rp30595.jpg            F     DR       0  LR2021\n",
              "2       L134F00879C39S14248Rp42482.jpg            F     DR      10  SR2021\n",
              "3      L1095F01359C01S08260Rp24587.jpg            F     DR      10  LR2021\n",
              "4       L134F00777C39S14171Rp45993.jpg            F     DR      10  SR2021\n",
              "...                                ...          ...    ...     ...     ...\n",
              "26101   L354F03913C01S09853Rp22354.jpg            V     WN      20  LR2021\n",
              "26102   L371F00110C01S06849Rp17916.jpg            V     WN      20  LR2021\n",
              "26103  L1115F00437C39S12162Rp34884.jpg            V     WN      20  SR2021\n",
              "26104  L1136F03296C01S09382Rp19244.jpg            V     WN      20  LR2021\n",
              "26105  L1130F00057C01S08015Rp15970.jpg            V     WN      90  LR2021\n",
              "\n",
              "[26106 rows x 5 columns]"
            ],
            "text/html": [
              "\n",
              "  <div id=\"df-7d5fcf9c-89ad-46c2-89d1-c66236b48a0a\" class=\"colab-df-container\">\n",
              "    <div>\n",
              "<style scoped>\n",
              "    .dataframe tbody tr th:only-of-type {\n",
              "        vertical-align: middle;\n",
              "    }\n",
              "\n",
              "    .dataframe tbody tr th {\n",
              "        vertical-align: top;\n",
              "    }\n",
              "\n",
              "    .dataframe thead th {\n",
              "        text-align: right;\n",
              "    }\n",
              "</style>\n",
              "<table border=\"1\" class=\"dataframe\">\n",
              "  <thead>\n",
              "    <tr style=\"text-align: right;\">\n",
              "      <th></th>\n",
              "      <th>filename</th>\n",
              "      <th>growth_stage</th>\n",
              "      <th>damage</th>\n",
              "      <th>extent</th>\n",
              "      <th>season</th>\n",
              "    </tr>\n",
              "  </thead>\n",
              "  <tbody>\n",
              "    <tr>\n",
              "      <th>0</th>\n",
              "      <td>L398F01276C01S07896Rp26856.jpg</td>\n",
              "      <td>F</td>\n",
              "      <td>DR</td>\n",
              "      <td>0</td>\n",
              "      <td>LR2021</td>\n",
              "    </tr>\n",
              "    <tr>\n",
              "      <th>1</th>\n",
              "      <td>L355F02268C02S08916Rp30595.jpg</td>\n",
              "      <td>F</td>\n",
              "      <td>DR</td>\n",
              "      <td>0</td>\n",
              "      <td>LR2021</td>\n",
              "    </tr>\n",
              "    <tr>\n",
              "      <th>2</th>\n",
              "      <td>L134F00879C39S14248Rp42482.jpg</td>\n",
              "      <td>F</td>\n",
              "      <td>DR</td>\n",
              "      <td>10</td>\n",
              "      <td>SR2021</td>\n",
              "    </tr>\n",
              "    <tr>\n",
              "      <th>3</th>\n",
              "      <td>L1095F01359C01S08260Rp24587.jpg</td>\n",
              "      <td>F</td>\n",
              "      <td>DR</td>\n",
              "      <td>10</td>\n",
              "      <td>LR2021</td>\n",
              "    </tr>\n",
              "    <tr>\n",
              "      <th>4</th>\n",
              "      <td>L134F00777C39S14171Rp45993.jpg</td>\n",
              "      <td>F</td>\n",
              "      <td>DR</td>\n",
              "      <td>10</td>\n",
              "      <td>SR2021</td>\n",
              "    </tr>\n",
              "    <tr>\n",
              "      <th>...</th>\n",
              "      <td>...</td>\n",
              "      <td>...</td>\n",
              "      <td>...</td>\n",
              "      <td>...</td>\n",
              "      <td>...</td>\n",
              "    </tr>\n",
              "    <tr>\n",
              "      <th>26101</th>\n",
              "      <td>L354F03913C01S09853Rp22354.jpg</td>\n",
              "      <td>V</td>\n",
              "      <td>WN</td>\n",
              "      <td>20</td>\n",
              "      <td>LR2021</td>\n",
              "    </tr>\n",
              "    <tr>\n",
              "      <th>26102</th>\n",
              "      <td>L371F00110C01S06849Rp17916.jpg</td>\n",
              "      <td>V</td>\n",
              "      <td>WN</td>\n",
              "      <td>20</td>\n",
              "      <td>LR2021</td>\n",
              "    </tr>\n",
              "    <tr>\n",
              "      <th>26103</th>\n",
              "      <td>L1115F00437C39S12162Rp34884.jpg</td>\n",
              "      <td>V</td>\n",
              "      <td>WN</td>\n",
              "      <td>20</td>\n",
              "      <td>SR2021</td>\n",
              "    </tr>\n",
              "    <tr>\n",
              "      <th>26104</th>\n",
              "      <td>L1136F03296C01S09382Rp19244.jpg</td>\n",
              "      <td>V</td>\n",
              "      <td>WN</td>\n",
              "      <td>20</td>\n",
              "      <td>LR2021</td>\n",
              "    </tr>\n",
              "    <tr>\n",
              "      <th>26105</th>\n",
              "      <td>L1130F00057C01S08015Rp15970.jpg</td>\n",
              "      <td>V</td>\n",
              "      <td>WN</td>\n",
              "      <td>90</td>\n",
              "      <td>LR2021</td>\n",
              "    </tr>\n",
              "  </tbody>\n",
              "</table>\n",
              "<p>26106 rows × 5 columns</p>\n",
              "</div>\n",
              "    <div class=\"colab-df-buttons\">\n",
              "\n",
              "  <div class=\"colab-df-container\">\n",
              "    <button class=\"colab-df-convert\" onclick=\"convertToInteractive('df-7d5fcf9c-89ad-46c2-89d1-c66236b48a0a')\"\n",
              "            title=\"Convert this dataframe to an interactive table.\"\n",
              "            style=\"display:none;\">\n",
              "\n",
              "  <svg xmlns=\"http://www.w3.org/2000/svg\" height=\"24px\" viewBox=\"0 -960 960 960\">\n",
              "    <path d=\"M120-120v-720h720v720H120Zm60-500h600v-160H180v160Zm220 220h160v-160H400v160Zm0 220h160v-160H400v160ZM180-400h160v-160H180v160Zm440 0h160v-160H620v160ZM180-180h160v-160H180v160Zm440 0h160v-160H620v160Z\"/>\n",
              "  </svg>\n",
              "    </button>\n",
              "\n",
              "  <style>\n",
              "    .colab-df-container {\n",
              "      display:flex;\n",
              "      gap: 12px;\n",
              "    }\n",
              "\n",
              "    .colab-df-convert {\n",
              "      background-color: #E8F0FE;\n",
              "      border: none;\n",
              "      border-radius: 50%;\n",
              "      cursor: pointer;\n",
              "      display: none;\n",
              "      fill: #1967D2;\n",
              "      height: 32px;\n",
              "      padding: 0 0 0 0;\n",
              "      width: 32px;\n",
              "    }\n",
              "\n",
              "    .colab-df-convert:hover {\n",
              "      background-color: #E2EBFA;\n",
              "      box-shadow: 0px 1px 2px rgba(60, 64, 67, 0.3), 0px 1px 3px 1px rgba(60, 64, 67, 0.15);\n",
              "      fill: #174EA6;\n",
              "    }\n",
              "\n",
              "    .colab-df-buttons div {\n",
              "      margin-bottom: 4px;\n",
              "    }\n",
              "\n",
              "    [theme=dark] .colab-df-convert {\n",
              "      background-color: #3B4455;\n",
              "      fill: #D2E3FC;\n",
              "    }\n",
              "\n",
              "    [theme=dark] .colab-df-convert:hover {\n",
              "      background-color: #434B5C;\n",
              "      box-shadow: 0px 1px 3px 1px rgba(0, 0, 0, 0.15);\n",
              "      filter: drop-shadow(0px 1px 2px rgba(0, 0, 0, 0.3));\n",
              "      fill: #FFFFFF;\n",
              "    }\n",
              "  </style>\n",
              "\n",
              "    <script>\n",
              "      const buttonEl =\n",
              "        document.querySelector('#df-7d5fcf9c-89ad-46c2-89d1-c66236b48a0a button.colab-df-convert');\n",
              "      buttonEl.style.display =\n",
              "        google.colab.kernel.accessAllowed ? 'block' : 'none';\n",
              "\n",
              "      async function convertToInteractive(key) {\n",
              "        const element = document.querySelector('#df-7d5fcf9c-89ad-46c2-89d1-c66236b48a0a');\n",
              "        const dataTable =\n",
              "          await google.colab.kernel.invokeFunction('convertToInteractive',\n",
              "                                                    [key], {});\n",
              "        if (!dataTable) return;\n",
              "\n",
              "        const docLinkHtml = 'Like what you see? Visit the ' +\n",
              "          '<a target=\"_blank\" href=https://colab.research.google.com/notebooks/data_table.ipynb>data table notebook</a>'\n",
              "          + ' to learn more about interactive tables.';\n",
              "        element.innerHTML = '';\n",
              "        dataTable['output_type'] = 'display_data';\n",
              "        await google.colab.output.renderOutput(dataTable, element);\n",
              "        const docLink = document.createElement('div');\n",
              "        docLink.innerHTML = docLinkHtml;\n",
              "        element.appendChild(docLink);\n",
              "      }\n",
              "    </script>\n",
              "  </div>\n",
              "\n",
              "\n",
              "<div id=\"df-733d2ff6-c684-4227-b284-2f97d1149622\">\n",
              "  <button class=\"colab-df-quickchart\" onclick=\"quickchart('df-733d2ff6-c684-4227-b284-2f97d1149622')\"\n",
              "            title=\"Suggest charts.\"\n",
              "            style=\"display:none;\">\n",
              "\n",
              "<svg xmlns=\"http://www.w3.org/2000/svg\" height=\"24px\"viewBox=\"0 0 24 24\"\n",
              "     width=\"24px\">\n",
              "    <g>\n",
              "        <path d=\"M19 3H5c-1.1 0-2 .9-2 2v14c0 1.1.9 2 2 2h14c1.1 0 2-.9 2-2V5c0-1.1-.9-2-2-2zM9 17H7v-7h2v7zm4 0h-2V7h2v10zm4 0h-2v-4h2v4z\"/>\n",
              "    </g>\n",
              "</svg>\n",
              "  </button>\n",
              "\n",
              "<style>\n",
              "  .colab-df-quickchart {\n",
              "      --bg-color: #E8F0FE;\n",
              "      --fill-color: #1967D2;\n",
              "      --hover-bg-color: #E2EBFA;\n",
              "      --hover-fill-color: #174EA6;\n",
              "      --disabled-fill-color: #AAA;\n",
              "      --disabled-bg-color: #DDD;\n",
              "  }\n",
              "\n",
              "  [theme=dark] .colab-df-quickchart {\n",
              "      --bg-color: #3B4455;\n",
              "      --fill-color: #D2E3FC;\n",
              "      --hover-bg-color: #434B5C;\n",
              "      --hover-fill-color: #FFFFFF;\n",
              "      --disabled-bg-color: #3B4455;\n",
              "      --disabled-fill-color: #666;\n",
              "  }\n",
              "\n",
              "  .colab-df-quickchart {\n",
              "    background-color: var(--bg-color);\n",
              "    border: none;\n",
              "    border-radius: 50%;\n",
              "    cursor: pointer;\n",
              "    display: none;\n",
              "    fill: var(--fill-color);\n",
              "    height: 32px;\n",
              "    padding: 0;\n",
              "    width: 32px;\n",
              "  }\n",
              "\n",
              "  .colab-df-quickchart:hover {\n",
              "    background-color: var(--hover-bg-color);\n",
              "    box-shadow: 0 1px 2px rgba(60, 64, 67, 0.3), 0 1px 3px 1px rgba(60, 64, 67, 0.15);\n",
              "    fill: var(--button-hover-fill-color);\n",
              "  }\n",
              "\n",
              "  .colab-df-quickchart-complete:disabled,\n",
              "  .colab-df-quickchart-complete:disabled:hover {\n",
              "    background-color: var(--disabled-bg-color);\n",
              "    fill: var(--disabled-fill-color);\n",
              "    box-shadow: none;\n",
              "  }\n",
              "\n",
              "  .colab-df-spinner {\n",
              "    border: 2px solid var(--fill-color);\n",
              "    border-color: transparent;\n",
              "    border-bottom-color: var(--fill-color);\n",
              "    animation:\n",
              "      spin 1s steps(1) infinite;\n",
              "  }\n",
              "\n",
              "  @keyframes spin {\n",
              "    0% {\n",
              "      border-color: transparent;\n",
              "      border-bottom-color: var(--fill-color);\n",
              "      border-left-color: var(--fill-color);\n",
              "    }\n",
              "    20% {\n",
              "      border-color: transparent;\n",
              "      border-left-color: var(--fill-color);\n",
              "      border-top-color: var(--fill-color);\n",
              "    }\n",
              "    30% {\n",
              "      border-color: transparent;\n",
              "      border-left-color: var(--fill-color);\n",
              "      border-top-color: var(--fill-color);\n",
              "      border-right-color: var(--fill-color);\n",
              "    }\n",
              "    40% {\n",
              "      border-color: transparent;\n",
              "      border-right-color: var(--fill-color);\n",
              "      border-top-color: var(--fill-color);\n",
              "    }\n",
              "    60% {\n",
              "      border-color: transparent;\n",
              "      border-right-color: var(--fill-color);\n",
              "    }\n",
              "    80% {\n",
              "      border-color: transparent;\n",
              "      border-right-color: var(--fill-color);\n",
              "      border-bottom-color: var(--fill-color);\n",
              "    }\n",
              "    90% {\n",
              "      border-color: transparent;\n",
              "      border-bottom-color: var(--fill-color);\n",
              "    }\n",
              "  }\n",
              "</style>\n",
              "\n",
              "  <script>\n",
              "    async function quickchart(key) {\n",
              "      const quickchartButtonEl =\n",
              "        document.querySelector('#' + key + ' button');\n",
              "      quickchartButtonEl.disabled = true;  // To prevent multiple clicks.\n",
              "      quickchartButtonEl.classList.add('colab-df-spinner');\n",
              "      try {\n",
              "        const charts = await google.colab.kernel.invokeFunction(\n",
              "            'suggestCharts', [key], {});\n",
              "      } catch (error) {\n",
              "        console.error('Error during call to suggestCharts:', error);\n",
              "      }\n",
              "      quickchartButtonEl.classList.remove('colab-df-spinner');\n",
              "      quickchartButtonEl.classList.add('colab-df-quickchart-complete');\n",
              "    }\n",
              "    (() => {\n",
              "      let quickchartButtonEl =\n",
              "        document.querySelector('#df-733d2ff6-c684-4227-b284-2f97d1149622 button');\n",
              "      quickchartButtonEl.style.display =\n",
              "        google.colab.kernel.accessAllowed ? 'block' : 'none';\n",
              "    })();\n",
              "  </script>\n",
              "</div>\n",
              "    </div>\n",
              "  </div>\n"
            ]
          },
          "metadata": {},
          "execution_count": 114
        }
      ],
      "source": [
        "dataframe_train = pd.read_csv('./drive/Shareddrives/Data Science Proyecto 2/DataSets/train.csv')\n",
        "dataframe_train"
      ]
    },
    {
      "cell_type": "markdown",
      "metadata": {
        "id": "15vgDnC8-vBb"
      },
      "source": [
        "##### Vamos a verificar si existen filas repetidas con los mismos valores o no"
      ]
    },
    {
      "cell_type": "code",
      "execution_count": 115,
      "metadata": {
        "id": "XZ_nEPig-vBc",
        "outputId": "c99a482b-5518-4ed8-9381-b0d5214e2f28",
        "colab": {
          "base_uri": "https://localhost:8080/"
        }
      },
      "outputs": [
        {
          "output_type": "execute_result",
          "data": {
            "text/plain": [
              "False    26071\n",
              "True        35\n",
              "dtype: int64"
            ]
          },
          "metadata": {},
          "execution_count": 115
        }
      ],
      "source": [
        "dataframe_train.duplicated().value_counts()"
      ]
    },
    {
      "cell_type": "markdown",
      "metadata": {
        "id": "vXA7u7or-vBd"
      },
      "source": [
        "En este caso si hay columnas repetidas"
      ]
    },
    {
      "cell_type": "markdown",
      "metadata": {
        "id": "lHkcJRyz-vBd"
      },
      "source": [
        "##### Vamos a verificar si hay data duplicada en cada una de las filas"
      ]
    },
    {
      "cell_type": "code",
      "execution_count": 116,
      "metadata": {
        "id": "gF1v5UaZ-vBe",
        "outputId": "c0221f6f-f83e-4dc4-b8d4-c48a604352ab",
        "colab": {
          "base_uri": "https://localhost:8080/"
        }
      },
      "outputs": [
        {
          "output_type": "execute_result",
          "data": {
            "text/plain": [
              "L134F00826C01S09701Rp25716.jpg     2\n",
              "L134F00821C01S09698Rp25712.jpg     2\n",
              "L134F00807C01S06936Rp16159.jpg     2\n",
              "L134F00807C01S06936Rp30720.jpg     2\n",
              "148_repeat_2_1191_5790_4165.JPG    2\n",
              "                                  ..\n",
              "L1137F01674C39S14829Dp43308.jpg    1\n",
              "L365F02389C20S10949Rp29479.jpg     1\n",
              "L221F01960C39S14762Dp41325.jpg     1\n",
              "L323F01514C39S14635Dp46581.jpg     1\n",
              "L1130F00057C01S08015Rp15970.jpg    1\n",
              "Name: filename, Length: 26071, dtype: int64"
            ]
          },
          "metadata": {},
          "execution_count": 116
        }
      ],
      "source": [
        "dataframe_train['filename'].value_counts().sort_values(ascending=False)"
      ]
    },
    {
      "cell_type": "markdown",
      "metadata": {
        "id": "pBDfjVxC-vBf"
      },
      "source": [
        "En este caso se puede apreciar que se encontraron imagenes repetidas tambien."
      ]
    },
    {
      "cell_type": "markdown",
      "metadata": {
        "id": "hnNh7TA4-vBf"
      },
      "source": [
        "##### Se van a eliminar los datos duplicados"
      ]
    },
    {
      "cell_type": "code",
      "source": [
        "print(f\"Train cantidad de datos: {len(dataframe_train)}\")"
      ],
      "metadata": {
        "colab": {
          "base_uri": "https://localhost:8080/"
        },
        "id": "uxbRCB1hCOVR",
        "outputId": "57d6f9da-94fd-4536-ac03-5c56d0037224"
      },
      "execution_count": 117,
      "outputs": [
        {
          "output_type": "stream",
          "name": "stdout",
          "text": [
            "Train cantidad de datos: 26106\n"
          ]
        }
      ]
    },
    {
      "cell_type": "code",
      "source": [
        "dataframe_train = dataframe_train.drop_duplicates()"
      ],
      "metadata": {
        "id": "l_hRzlm2CKsN"
      },
      "execution_count": 118,
      "outputs": []
    },
    {
      "cell_type": "code",
      "execution_count": 119,
      "metadata": {
        "id": "oJPow0nK-vBf",
        "outputId": "c4cfb9de-6639-419a-f9b4-267435f41954",
        "colab": {
          "base_uri": "https://localhost:8080/"
        }
      },
      "outputs": [
        {
          "output_type": "stream",
          "name": "stdout",
          "text": [
            "Train cantidad de datos: 26071\n"
          ]
        }
      ],
      "source": [
        "print(f\"Train cantidad de datos: {len(dataframe_train)}\")"
      ]
    },
    {
      "cell_type": "code",
      "execution_count": 120,
      "metadata": {
        "id": "nM3SfGx4-vBf"
      },
      "outputs": [],
      "source": [
        "def delete_duplicated_data_of_df(df, column_name):\n",
        "    return df.drop_duplicates(subset=[column_name], keep=False)"
      ]
    },
    {
      "cell_type": "markdown",
      "metadata": {
        "id": "EUtzDxi7-vBg"
      },
      "source": [
        "Eliminar duplicados de filename (Si es que hubiera)"
      ]
    },
    {
      "cell_type": "code",
      "execution_count": 121,
      "metadata": {
        "id": "keyFXqaH-vBg"
      },
      "outputs": [],
      "source": [
        "dataframe_train = delete_duplicated_data_of_df(dataframe_train, \"filename\")"
      ]
    },
    {
      "cell_type": "code",
      "execution_count": 122,
      "metadata": {
        "id": "Jc3dOWNQ-vBg",
        "outputId": "ee3ddfcb-4d55-44c0-8ff7-be21e3fe5fdf",
        "colab": {
          "base_uri": "https://localhost:8080/"
        }
      },
      "outputs": [
        {
          "output_type": "stream",
          "name": "stdout",
          "text": [
            "Train cantidad de datos: 26071\n"
          ]
        }
      ],
      "source": [
        "print(f\"Train cantidad de datos: {len(dataframe_train)}\")"
      ]
    },
    {
      "cell_type": "code",
      "source": [
        "dataframe_train['filename'].value_counts().sort_values(ascending=False)"
      ],
      "metadata": {
        "colab": {
          "base_uri": "https://localhost:8080/"
        },
        "id": "64uuEurRDb3f",
        "outputId": "a8f0db23-f665-43cd-aacd-bb3d43540afa"
      },
      "execution_count": 123,
      "outputs": [
        {
          "output_type": "execute_result",
          "data": {
            "text/plain": [
              "L398F01276C01S07896Rp26856.jpg     1\n",
              "L371F00382C01S09279Rp26060.jpg     1\n",
              "L134F00879C39S14248Rp42482.jpg     1\n",
              "L1095F01359C01S08260Rp24587.jpg    1\n",
              "L134F00777C39S14171Rp45993.jpg     1\n",
              "                                  ..\n",
              "L1115F00437C39S12162Rp34884.jpg    1\n",
              "L1136F03296C01S09382Rp19244.jpg    1\n",
              "L221F00434C39S13348Rp38668.jpg     1\n",
              "L133F02337C01S09804Rp20258.jpg     1\n",
              "L1130F00057C01S08015Rp15970.jpg    1\n",
              "Name: filename, Length: 26071, dtype: int64"
            ]
          },
          "metadata": {},
          "execution_count": 123
        }
      ]
    },
    {
      "cell_type": "markdown",
      "metadata": {
        "id": "KY0REljh-vBh"
      },
      "source": [
        "Se puede apreciar que si había data duplicada con las imagenes, así que se optó por borrar dichos datos para una mejor optimización y procesamiento de datos, se hizo una doble verificacion de datos por si había data duplicada tanto por todas las columnas en sí como por el nombre de las imagenes."
      ]
    },
    {
      "cell_type": "code",
      "source": [
        "# Guardar el dataframe limpio en un nuevo csv\n",
        "dataframe_train.to_csv('./drive/Shareddrives/Data Science Proyecto 2/DataSets/train_clean.csv', index=False)"
      ],
      "metadata": {
        "id": "Itve4VLFCPnQ"
      },
      "execution_count": 124,
      "outputs": []
    },
    {
      "cell_type": "code",
      "source": [
        "dataframe_train_cleanned_demo = pd.read_csv('./drive/Shareddrives/Data Science Proyecto 2/DataSets/train_clean.csv')\n",
        "dataframe_train_cleanned_demo"
      ],
      "metadata": {
        "colab": {
          "base_uri": "https://localhost:8080/",
          "height": 424
        },
        "id": "-x2QfBRzEfXy",
        "outputId": "6b7f10b0-0cb3-4dc9-8d3d-06daef9d095a"
      },
      "execution_count": 125,
      "outputs": [
        {
          "output_type": "execute_result",
          "data": {
            "text/plain": [
              "                              filename growth_stage damage  extent  season\n",
              "0       L398F01276C01S07896Rp26856.jpg            F     DR       0  LR2021\n",
              "1       L355F02268C02S08916Rp30595.jpg            F     DR       0  LR2021\n",
              "2       L134F00879C39S14248Rp42482.jpg            F     DR      10  SR2021\n",
              "3      L1095F01359C01S08260Rp24587.jpg            F     DR      10  LR2021\n",
              "4       L134F00777C39S14171Rp45993.jpg            F     DR      10  SR2021\n",
              "...                                ...          ...    ...     ...     ...\n",
              "26066   L354F03913C01S09853Rp22354.jpg            V     WN      20  LR2021\n",
              "26067   L371F00110C01S06849Rp17916.jpg            V     WN      20  LR2021\n",
              "26068  L1115F00437C39S12162Rp34884.jpg            V     WN      20  SR2021\n",
              "26069  L1136F03296C01S09382Rp19244.jpg            V     WN      20  LR2021\n",
              "26070  L1130F00057C01S08015Rp15970.jpg            V     WN      90  LR2021\n",
              "\n",
              "[26071 rows x 5 columns]"
            ],
            "text/html": [
              "\n",
              "  <div id=\"df-4a5dacb0-845f-4f9f-8ae5-b59b784b31a4\" class=\"colab-df-container\">\n",
              "    <div>\n",
              "<style scoped>\n",
              "    .dataframe tbody tr th:only-of-type {\n",
              "        vertical-align: middle;\n",
              "    }\n",
              "\n",
              "    .dataframe tbody tr th {\n",
              "        vertical-align: top;\n",
              "    }\n",
              "\n",
              "    .dataframe thead th {\n",
              "        text-align: right;\n",
              "    }\n",
              "</style>\n",
              "<table border=\"1\" class=\"dataframe\">\n",
              "  <thead>\n",
              "    <tr style=\"text-align: right;\">\n",
              "      <th></th>\n",
              "      <th>filename</th>\n",
              "      <th>growth_stage</th>\n",
              "      <th>damage</th>\n",
              "      <th>extent</th>\n",
              "      <th>season</th>\n",
              "    </tr>\n",
              "  </thead>\n",
              "  <tbody>\n",
              "    <tr>\n",
              "      <th>0</th>\n",
              "      <td>L398F01276C01S07896Rp26856.jpg</td>\n",
              "      <td>F</td>\n",
              "      <td>DR</td>\n",
              "      <td>0</td>\n",
              "      <td>LR2021</td>\n",
              "    </tr>\n",
              "    <tr>\n",
              "      <th>1</th>\n",
              "      <td>L355F02268C02S08916Rp30595.jpg</td>\n",
              "      <td>F</td>\n",
              "      <td>DR</td>\n",
              "      <td>0</td>\n",
              "      <td>LR2021</td>\n",
              "    </tr>\n",
              "    <tr>\n",
              "      <th>2</th>\n",
              "      <td>L134F00879C39S14248Rp42482.jpg</td>\n",
              "      <td>F</td>\n",
              "      <td>DR</td>\n",
              "      <td>10</td>\n",
              "      <td>SR2021</td>\n",
              "    </tr>\n",
              "    <tr>\n",
              "      <th>3</th>\n",
              "      <td>L1095F01359C01S08260Rp24587.jpg</td>\n",
              "      <td>F</td>\n",
              "      <td>DR</td>\n",
              "      <td>10</td>\n",
              "      <td>LR2021</td>\n",
              "    </tr>\n",
              "    <tr>\n",
              "      <th>4</th>\n",
              "      <td>L134F00777C39S14171Rp45993.jpg</td>\n",
              "      <td>F</td>\n",
              "      <td>DR</td>\n",
              "      <td>10</td>\n",
              "      <td>SR2021</td>\n",
              "    </tr>\n",
              "    <tr>\n",
              "      <th>...</th>\n",
              "      <td>...</td>\n",
              "      <td>...</td>\n",
              "      <td>...</td>\n",
              "      <td>...</td>\n",
              "      <td>...</td>\n",
              "    </tr>\n",
              "    <tr>\n",
              "      <th>26066</th>\n",
              "      <td>L354F03913C01S09853Rp22354.jpg</td>\n",
              "      <td>V</td>\n",
              "      <td>WN</td>\n",
              "      <td>20</td>\n",
              "      <td>LR2021</td>\n",
              "    </tr>\n",
              "    <tr>\n",
              "      <th>26067</th>\n",
              "      <td>L371F00110C01S06849Rp17916.jpg</td>\n",
              "      <td>V</td>\n",
              "      <td>WN</td>\n",
              "      <td>20</td>\n",
              "      <td>LR2021</td>\n",
              "    </tr>\n",
              "    <tr>\n",
              "      <th>26068</th>\n",
              "      <td>L1115F00437C39S12162Rp34884.jpg</td>\n",
              "      <td>V</td>\n",
              "      <td>WN</td>\n",
              "      <td>20</td>\n",
              "      <td>SR2021</td>\n",
              "    </tr>\n",
              "    <tr>\n",
              "      <th>26069</th>\n",
              "      <td>L1136F03296C01S09382Rp19244.jpg</td>\n",
              "      <td>V</td>\n",
              "      <td>WN</td>\n",
              "      <td>20</td>\n",
              "      <td>LR2021</td>\n",
              "    </tr>\n",
              "    <tr>\n",
              "      <th>26070</th>\n",
              "      <td>L1130F00057C01S08015Rp15970.jpg</td>\n",
              "      <td>V</td>\n",
              "      <td>WN</td>\n",
              "      <td>90</td>\n",
              "      <td>LR2021</td>\n",
              "    </tr>\n",
              "  </tbody>\n",
              "</table>\n",
              "<p>26071 rows × 5 columns</p>\n",
              "</div>\n",
              "    <div class=\"colab-df-buttons\">\n",
              "\n",
              "  <div class=\"colab-df-container\">\n",
              "    <button class=\"colab-df-convert\" onclick=\"convertToInteractive('df-4a5dacb0-845f-4f9f-8ae5-b59b784b31a4')\"\n",
              "            title=\"Convert this dataframe to an interactive table.\"\n",
              "            style=\"display:none;\">\n",
              "\n",
              "  <svg xmlns=\"http://www.w3.org/2000/svg\" height=\"24px\" viewBox=\"0 -960 960 960\">\n",
              "    <path d=\"M120-120v-720h720v720H120Zm60-500h600v-160H180v160Zm220 220h160v-160H400v160Zm0 220h160v-160H400v160ZM180-400h160v-160H180v160Zm440 0h160v-160H620v160ZM180-180h160v-160H180v160Zm440 0h160v-160H620v160Z\"/>\n",
              "  </svg>\n",
              "    </button>\n",
              "\n",
              "  <style>\n",
              "    .colab-df-container {\n",
              "      display:flex;\n",
              "      gap: 12px;\n",
              "    }\n",
              "\n",
              "    .colab-df-convert {\n",
              "      background-color: #E8F0FE;\n",
              "      border: none;\n",
              "      border-radius: 50%;\n",
              "      cursor: pointer;\n",
              "      display: none;\n",
              "      fill: #1967D2;\n",
              "      height: 32px;\n",
              "      padding: 0 0 0 0;\n",
              "      width: 32px;\n",
              "    }\n",
              "\n",
              "    .colab-df-convert:hover {\n",
              "      background-color: #E2EBFA;\n",
              "      box-shadow: 0px 1px 2px rgba(60, 64, 67, 0.3), 0px 1px 3px 1px rgba(60, 64, 67, 0.15);\n",
              "      fill: #174EA6;\n",
              "    }\n",
              "\n",
              "    .colab-df-buttons div {\n",
              "      margin-bottom: 4px;\n",
              "    }\n",
              "\n",
              "    [theme=dark] .colab-df-convert {\n",
              "      background-color: #3B4455;\n",
              "      fill: #D2E3FC;\n",
              "    }\n",
              "\n",
              "    [theme=dark] .colab-df-convert:hover {\n",
              "      background-color: #434B5C;\n",
              "      box-shadow: 0px 1px 3px 1px rgba(0, 0, 0, 0.15);\n",
              "      filter: drop-shadow(0px 1px 2px rgba(0, 0, 0, 0.3));\n",
              "      fill: #FFFFFF;\n",
              "    }\n",
              "  </style>\n",
              "\n",
              "    <script>\n",
              "      const buttonEl =\n",
              "        document.querySelector('#df-4a5dacb0-845f-4f9f-8ae5-b59b784b31a4 button.colab-df-convert');\n",
              "      buttonEl.style.display =\n",
              "        google.colab.kernel.accessAllowed ? 'block' : 'none';\n",
              "\n",
              "      async function convertToInteractive(key) {\n",
              "        const element = document.querySelector('#df-4a5dacb0-845f-4f9f-8ae5-b59b784b31a4');\n",
              "        const dataTable =\n",
              "          await google.colab.kernel.invokeFunction('convertToInteractive',\n",
              "                                                    [key], {});\n",
              "        if (!dataTable) return;\n",
              "\n",
              "        const docLinkHtml = 'Like what you see? Visit the ' +\n",
              "          '<a target=\"_blank\" href=https://colab.research.google.com/notebooks/data_table.ipynb>data table notebook</a>'\n",
              "          + ' to learn more about interactive tables.';\n",
              "        element.innerHTML = '';\n",
              "        dataTable['output_type'] = 'display_data';\n",
              "        await google.colab.output.renderOutput(dataTable, element);\n",
              "        const docLink = document.createElement('div');\n",
              "        docLink.innerHTML = docLinkHtml;\n",
              "        element.appendChild(docLink);\n",
              "      }\n",
              "    </script>\n",
              "  </div>\n",
              "\n",
              "\n",
              "<div id=\"df-51011ecf-8b79-4931-ace5-3743d8c89ec7\">\n",
              "  <button class=\"colab-df-quickchart\" onclick=\"quickchart('df-51011ecf-8b79-4931-ace5-3743d8c89ec7')\"\n",
              "            title=\"Suggest charts.\"\n",
              "            style=\"display:none;\">\n",
              "\n",
              "<svg xmlns=\"http://www.w3.org/2000/svg\" height=\"24px\"viewBox=\"0 0 24 24\"\n",
              "     width=\"24px\">\n",
              "    <g>\n",
              "        <path d=\"M19 3H5c-1.1 0-2 .9-2 2v14c0 1.1.9 2 2 2h14c1.1 0 2-.9 2-2V5c0-1.1-.9-2-2-2zM9 17H7v-7h2v7zm4 0h-2V7h2v10zm4 0h-2v-4h2v4z\"/>\n",
              "    </g>\n",
              "</svg>\n",
              "  </button>\n",
              "\n",
              "<style>\n",
              "  .colab-df-quickchart {\n",
              "      --bg-color: #E8F0FE;\n",
              "      --fill-color: #1967D2;\n",
              "      --hover-bg-color: #E2EBFA;\n",
              "      --hover-fill-color: #174EA6;\n",
              "      --disabled-fill-color: #AAA;\n",
              "      --disabled-bg-color: #DDD;\n",
              "  }\n",
              "\n",
              "  [theme=dark] .colab-df-quickchart {\n",
              "      --bg-color: #3B4455;\n",
              "      --fill-color: #D2E3FC;\n",
              "      --hover-bg-color: #434B5C;\n",
              "      --hover-fill-color: #FFFFFF;\n",
              "      --disabled-bg-color: #3B4455;\n",
              "      --disabled-fill-color: #666;\n",
              "  }\n",
              "\n",
              "  .colab-df-quickchart {\n",
              "    background-color: var(--bg-color);\n",
              "    border: none;\n",
              "    border-radius: 50%;\n",
              "    cursor: pointer;\n",
              "    display: none;\n",
              "    fill: var(--fill-color);\n",
              "    height: 32px;\n",
              "    padding: 0;\n",
              "    width: 32px;\n",
              "  }\n",
              "\n",
              "  .colab-df-quickchart:hover {\n",
              "    background-color: var(--hover-bg-color);\n",
              "    box-shadow: 0 1px 2px rgba(60, 64, 67, 0.3), 0 1px 3px 1px rgba(60, 64, 67, 0.15);\n",
              "    fill: var(--button-hover-fill-color);\n",
              "  }\n",
              "\n",
              "  .colab-df-quickchart-complete:disabled,\n",
              "  .colab-df-quickchart-complete:disabled:hover {\n",
              "    background-color: var(--disabled-bg-color);\n",
              "    fill: var(--disabled-fill-color);\n",
              "    box-shadow: none;\n",
              "  }\n",
              "\n",
              "  .colab-df-spinner {\n",
              "    border: 2px solid var(--fill-color);\n",
              "    border-color: transparent;\n",
              "    border-bottom-color: var(--fill-color);\n",
              "    animation:\n",
              "      spin 1s steps(1) infinite;\n",
              "  }\n",
              "\n",
              "  @keyframes spin {\n",
              "    0% {\n",
              "      border-color: transparent;\n",
              "      border-bottom-color: var(--fill-color);\n",
              "      border-left-color: var(--fill-color);\n",
              "    }\n",
              "    20% {\n",
              "      border-color: transparent;\n",
              "      border-left-color: var(--fill-color);\n",
              "      border-top-color: var(--fill-color);\n",
              "    }\n",
              "    30% {\n",
              "      border-color: transparent;\n",
              "      border-left-color: var(--fill-color);\n",
              "      border-top-color: var(--fill-color);\n",
              "      border-right-color: var(--fill-color);\n",
              "    }\n",
              "    40% {\n",
              "      border-color: transparent;\n",
              "      border-right-color: var(--fill-color);\n",
              "      border-top-color: var(--fill-color);\n",
              "    }\n",
              "    60% {\n",
              "      border-color: transparent;\n",
              "      border-right-color: var(--fill-color);\n",
              "    }\n",
              "    80% {\n",
              "      border-color: transparent;\n",
              "      border-right-color: var(--fill-color);\n",
              "      border-bottom-color: var(--fill-color);\n",
              "    }\n",
              "    90% {\n",
              "      border-color: transparent;\n",
              "      border-bottom-color: var(--fill-color);\n",
              "    }\n",
              "  }\n",
              "</style>\n",
              "\n",
              "  <script>\n",
              "    async function quickchart(key) {\n",
              "      const quickchartButtonEl =\n",
              "        document.querySelector('#' + key + ' button');\n",
              "      quickchartButtonEl.disabled = true;  // To prevent multiple clicks.\n",
              "      quickchartButtonEl.classList.add('colab-df-spinner');\n",
              "      try {\n",
              "        const charts = await google.colab.kernel.invokeFunction(\n",
              "            'suggestCharts', [key], {});\n",
              "      } catch (error) {\n",
              "        console.error('Error during call to suggestCharts:', error);\n",
              "      }\n",
              "      quickchartButtonEl.classList.remove('colab-df-spinner');\n",
              "      quickchartButtonEl.classList.add('colab-df-quickchart-complete');\n",
              "    }\n",
              "    (() => {\n",
              "      let quickchartButtonEl =\n",
              "        document.querySelector('#df-51011ecf-8b79-4931-ace5-3743d8c89ec7 button');\n",
              "      quickchartButtonEl.style.display =\n",
              "        google.colab.kernel.accessAllowed ? 'block' : 'none';\n",
              "    })();\n",
              "  </script>\n",
              "</div>\n",
              "    </div>\n",
              "  </div>\n"
            ]
          },
          "metadata": {},
          "execution_count": 125
        }
      ]
    },
    {
      "cell_type": "code",
      "source": [
        "dataframe_train_cleanned_demo.duplicated().value_counts()"
      ],
      "metadata": {
        "colab": {
          "base_uri": "https://localhost:8080/"
        },
        "id": "QHFI7QUuEtjc",
        "outputId": "1cc2d1f8-efb5-44ac-884e-4d063f7522e2"
      },
      "execution_count": 126,
      "outputs": [
        {
          "output_type": "execute_result",
          "data": {
            "text/plain": [
              "False    26071\n",
              "dtype: int64"
            ]
          },
          "metadata": {},
          "execution_count": 126
        }
      ]
    }
  ],
  "metadata": {
    "kernelspec": {
      "display_name": "Python 3",
      "language": "python",
      "name": "python3"
    },
    "language_info": {
      "codemirror_mode": {
        "name": "ipython",
        "version": 3
      },
      "file_extension": ".py",
      "mimetype": "text/x-python",
      "name": "python",
      "nbconvert_exporter": "python",
      "pygments_lexer": "ipython3",
      "version": "3.10.12"
    },
    "orig_nbformat": 4,
    "colab": {
      "provenance": []
    }
  },
  "nbformat": 4,
  "nbformat_minor": 0
}