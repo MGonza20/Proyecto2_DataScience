{
 "cells": [
  {
   "attachments": {},
   "cell_type": "markdown",
   "metadata": {},
   "source": [
    "#### Revisar la data"
   ]
  },
  {
   "cell_type": "code",
   "execution_count": 128,
   "metadata": {},
   "outputs": [],
   "source": [
    "# Importar librerías necesarias\n",
    "import pandas as pd"
   ]
  },
  {
   "cell_type": "code",
   "execution_count": 129,
   "metadata": {},
   "outputs": [
    {
     "data": {
      "text/html": [
       "<div>\n",
       "<style scoped>\n",
       "    .dataframe tbody tr th:only-of-type {\n",
       "        vertical-align: middle;\n",
       "    }\n",
       "\n",
       "    .dataframe tbody tr th {\n",
       "        vertical-align: top;\n",
       "    }\n",
       "\n",
       "    .dataframe thead th {\n",
       "        text-align: right;\n",
       "    }\n",
       "</style>\n",
       "<table border=\"1\" class=\"dataframe\">\n",
       "  <thead>\n",
       "    <tr style=\"text-align: right;\">\n",
       "      <th></th>\n",
       "      <th>ID</th>\n",
       "      <th>filename</th>\n",
       "      <th>growth_stage</th>\n",
       "      <th>damage</th>\n",
       "      <th>extent</th>\n",
       "      <th>season</th>\n",
       "    </tr>\n",
       "  </thead>\n",
       "  <tbody>\n",
       "    <tr>\n",
       "      <th>0</th>\n",
       "      <td>ID_1S8OOWQYCB</td>\n",
       "      <td>L427F01330C01S03961Rp02052.jpg</td>\n",
       "      <td>S</td>\n",
       "      <td>WD</td>\n",
       "      <td>0</td>\n",
       "      <td>SR2020</td>\n",
       "    </tr>\n",
       "    <tr>\n",
       "      <th>1</th>\n",
       "      <td>ID_0MD959MIZ0</td>\n",
       "      <td>L1083F00930C39S12674Ip.jpg</td>\n",
       "      <td>V</td>\n",
       "      <td>G</td>\n",
       "      <td>0</td>\n",
       "      <td>SR2021</td>\n",
       "    </tr>\n",
       "    <tr>\n",
       "      <th>2</th>\n",
       "      <td>ID_JRJCI4Q11V</td>\n",
       "      <td>24_initial_1_1463_1463.JPG</td>\n",
       "      <td>V</td>\n",
       "      <td>G</td>\n",
       "      <td>0</td>\n",
       "      <td>LR2020</td>\n",
       "    </tr>\n",
       "    <tr>\n",
       "      <th>3</th>\n",
       "      <td>ID_DBO3ZGI1GM</td>\n",
       "      <td>L341F00167C01S00324Rp14178.jpg</td>\n",
       "      <td>M</td>\n",
       "      <td>DR</td>\n",
       "      <td>60</td>\n",
       "      <td>SR2020</td>\n",
       "    </tr>\n",
       "    <tr>\n",
       "      <th>4</th>\n",
       "      <td>ID_ORZLWTEUUS</td>\n",
       "      <td>L1084F02394C39S13931Ip.jpg</td>\n",
       "      <td>V</td>\n",
       "      <td>G</td>\n",
       "      <td>0</td>\n",
       "      <td>SR2021</td>\n",
       "    </tr>\n",
       "    <tr>\n",
       "      <th>...</th>\n",
       "      <td>...</td>\n",
       "      <td>...</td>\n",
       "      <td>...</td>\n",
       "      <td>...</td>\n",
       "      <td>...</td>\n",
       "      <td>...</td>\n",
       "    </tr>\n",
       "    <tr>\n",
       "      <th>26063</th>\n",
       "      <td>ID_3II1SXC0ZO</td>\n",
       "      <td>L1084F03259C39S12149Rp41671.jpg</td>\n",
       "      <td>M</td>\n",
       "      <td>DR</td>\n",
       "      <td>30</td>\n",
       "      <td>SR2021</td>\n",
       "    </tr>\n",
       "    <tr>\n",
       "      <th>26064</th>\n",
       "      <td>ID_OE7OU9ZF4U</td>\n",
       "      <td>L406F04369C01S07190Rp22847.jpg</td>\n",
       "      <td>V</td>\n",
       "      <td>G</td>\n",
       "      <td>0</td>\n",
       "      <td>LR2021</td>\n",
       "    </tr>\n",
       "    <tr>\n",
       "      <th>26065</th>\n",
       "      <td>ID_20M531UIZZ</td>\n",
       "      <td>L134F00766C01S09784Rp26034.jpg</td>\n",
       "      <td>M</td>\n",
       "      <td>G</td>\n",
       "      <td>0</td>\n",
       "      <td>LR2021</td>\n",
       "    </tr>\n",
       "    <tr>\n",
       "      <th>26066</th>\n",
       "      <td>ID_BZBV2FH0KL</td>\n",
       "      <td>L1153F02464C01S00194Rp01561.jpg</td>\n",
       "      <td>F</td>\n",
       "      <td>G</td>\n",
       "      <td>0</td>\n",
       "      <td>SR2020</td>\n",
       "    </tr>\n",
       "    <tr>\n",
       "      <th>26067</th>\n",
       "      <td>ID_ZVBF61EA0I</td>\n",
       "      <td>L406F00362C01S00614Rp06760.jpg</td>\n",
       "      <td>V</td>\n",
       "      <td>G</td>\n",
       "      <td>0</td>\n",
       "      <td>SR2020</td>\n",
       "    </tr>\n",
       "  </tbody>\n",
       "</table>\n",
       "<p>26068 rows × 6 columns</p>\n",
       "</div>"
      ],
      "text/plain": [
       "                  ID                         filename growth_stage damage  \\\n",
       "0      ID_1S8OOWQYCB   L427F01330C01S03961Rp02052.jpg            S     WD   \n",
       "1      ID_0MD959MIZ0       L1083F00930C39S12674Ip.jpg            V      G   \n",
       "2      ID_JRJCI4Q11V       24_initial_1_1463_1463.JPG            V      G   \n",
       "3      ID_DBO3ZGI1GM   L341F00167C01S00324Rp14178.jpg            M     DR   \n",
       "4      ID_ORZLWTEUUS       L1084F02394C39S13931Ip.jpg            V      G   \n",
       "...              ...                              ...          ...    ...   \n",
       "26063  ID_3II1SXC0ZO  L1084F03259C39S12149Rp41671.jpg            M     DR   \n",
       "26064  ID_OE7OU9ZF4U   L406F04369C01S07190Rp22847.jpg            V      G   \n",
       "26065  ID_20M531UIZZ   L134F00766C01S09784Rp26034.jpg            M      G   \n",
       "26066  ID_BZBV2FH0KL  L1153F02464C01S00194Rp01561.jpg            F      G   \n",
       "26067  ID_ZVBF61EA0I   L406F00362C01S00614Rp06760.jpg            V      G   \n",
       "\n",
       "       extent  season  \n",
       "0           0  SR2020  \n",
       "1           0  SR2021  \n",
       "2           0  LR2020  \n",
       "3          60  SR2020  \n",
       "4           0  SR2021  \n",
       "...       ...     ...  \n",
       "26063      30  SR2021  \n",
       "26064       0  LR2021  \n",
       "26065       0  LR2021  \n",
       "26066       0  SR2020  \n",
       "26067       0  SR2020  \n",
       "\n",
       "[26068 rows x 6 columns]"
      ]
     },
     "execution_count": 129,
     "metadata": {},
     "output_type": "execute_result"
    }
   ],
   "source": [
    "dataframe_train = pd.read_csv('./data/Train.csv')\n",
    "dataframe_train"
   ]
  },
  {
   "cell_type": "code",
   "execution_count": 130,
   "metadata": {},
   "outputs": [
    {
     "data": {
      "text/html": [
       "<div>\n",
       "<style scoped>\n",
       "    .dataframe tbody tr th:only-of-type {\n",
       "        vertical-align: middle;\n",
       "    }\n",
       "\n",
       "    .dataframe tbody tr th {\n",
       "        vertical-align: top;\n",
       "    }\n",
       "\n",
       "    .dataframe thead th {\n",
       "        text-align: right;\n",
       "    }\n",
       "</style>\n",
       "<table border=\"1\" class=\"dataframe\">\n",
       "  <thead>\n",
       "    <tr style=\"text-align: right;\">\n",
       "      <th></th>\n",
       "      <th>ID</th>\n",
       "      <th>filename</th>\n",
       "      <th>growth_stage</th>\n",
       "      <th>damage</th>\n",
       "      <th>season</th>\n",
       "    </tr>\n",
       "  </thead>\n",
       "  <tbody>\n",
       "    <tr>\n",
       "      <th>0</th>\n",
       "      <td>ID_ROOWKB90UZ</td>\n",
       "      <td>L122F00315C01S02151Rp04021.jpg</td>\n",
       "      <td>V</td>\n",
       "      <td>WD</td>\n",
       "      <td>SR2020</td>\n",
       "    </tr>\n",
       "    <tr>\n",
       "      <th>1</th>\n",
       "      <td>ID_PTEDRY0CYM</td>\n",
       "      <td>L1089F03254C01S08845Rp25119.jpg</td>\n",
       "      <td>F</td>\n",
       "      <td>WD</td>\n",
       "      <td>LR2021</td>\n",
       "    </tr>\n",
       "    <tr>\n",
       "      <th>2</th>\n",
       "      <td>ID_5WJXDV96R4</td>\n",
       "      <td>L365F01913C39S12578Rp42918.jpg</td>\n",
       "      <td>V</td>\n",
       "      <td>WD</td>\n",
       "      <td>SR2021</td>\n",
       "    </tr>\n",
       "    <tr>\n",
       "      <th>3</th>\n",
       "      <td>ID_DM4AQLXXYG</td>\n",
       "      <td>223_repeat_2_2230_3599_2343.JPG</td>\n",
       "      <td>F</td>\n",
       "      <td>G</td>\n",
       "      <td>LR2020</td>\n",
       "    </tr>\n",
       "    <tr>\n",
       "      <th>4</th>\n",
       "      <td>ID_V6YTIT7I2S</td>\n",
       "      <td>L354F00276C01S08045Rp23693.jpg</td>\n",
       "      <td>F</td>\n",
       "      <td>G</td>\n",
       "      <td>LR2021</td>\n",
       "    </tr>\n",
       "    <tr>\n",
       "      <th>...</th>\n",
       "      <td>...</td>\n",
       "      <td>...</td>\n",
       "      <td>...</td>\n",
       "      <td>...</td>\n",
       "      <td>...</td>\n",
       "    </tr>\n",
       "    <tr>\n",
       "      <th>8658</th>\n",
       "      <td>ID_VYEB1ABJYA</td>\n",
       "      <td>L1122F01093C01S10236Rp20455.jpg</td>\n",
       "      <td>V</td>\n",
       "      <td>WD</td>\n",
       "      <td>LR2021</td>\n",
       "    </tr>\n",
       "    <tr>\n",
       "      <th>8659</th>\n",
       "      <td>ID_HQT6T7QYA4</td>\n",
       "      <td>L322F03389C39S14157Rp40614.jpg</td>\n",
       "      <td>V</td>\n",
       "      <td>WD</td>\n",
       "      <td>SR2021</td>\n",
       "    </tr>\n",
       "    <tr>\n",
       "      <th>8660</th>\n",
       "      <td>ID_FKC93FVGL1</td>\n",
       "      <td>L134F00855C01S05273Rp06412.jpg</td>\n",
       "      <td>V</td>\n",
       "      <td>WD</td>\n",
       "      <td>SR2020</td>\n",
       "    </tr>\n",
       "    <tr>\n",
       "      <th>8661</th>\n",
       "      <td>ID_EEJLBVEFGI</td>\n",
       "      <td>L410F02877C01S02293Rp01971.jpg</td>\n",
       "      <td>V</td>\n",
       "      <td>WD</td>\n",
       "      <td>SR2020</td>\n",
       "    </tr>\n",
       "    <tr>\n",
       "      <th>8662</th>\n",
       "      <td>ID_2B1IP642X1</td>\n",
       "      <td>L1089F01682C01S08539Rp27300.jpg</td>\n",
       "      <td>F</td>\n",
       "      <td>G</td>\n",
       "      <td>LR2021</td>\n",
       "    </tr>\n",
       "  </tbody>\n",
       "</table>\n",
       "<p>8663 rows × 5 columns</p>\n",
       "</div>"
      ],
      "text/plain": [
       "                 ID                         filename growth_stage damage  \\\n",
       "0     ID_ROOWKB90UZ   L122F00315C01S02151Rp04021.jpg            V     WD   \n",
       "1     ID_PTEDRY0CYM  L1089F03254C01S08845Rp25119.jpg            F     WD   \n",
       "2     ID_5WJXDV96R4   L365F01913C39S12578Rp42918.jpg            V     WD   \n",
       "3     ID_DM4AQLXXYG  223_repeat_2_2230_3599_2343.JPG            F      G   \n",
       "4     ID_V6YTIT7I2S   L354F00276C01S08045Rp23693.jpg            F      G   \n",
       "...             ...                              ...          ...    ...   \n",
       "8658  ID_VYEB1ABJYA  L1122F01093C01S10236Rp20455.jpg            V     WD   \n",
       "8659  ID_HQT6T7QYA4   L322F03389C39S14157Rp40614.jpg            V     WD   \n",
       "8660  ID_FKC93FVGL1   L134F00855C01S05273Rp06412.jpg            V     WD   \n",
       "8661  ID_EEJLBVEFGI   L410F02877C01S02293Rp01971.jpg            V     WD   \n",
       "8662  ID_2B1IP642X1  L1089F01682C01S08539Rp27300.jpg            F      G   \n",
       "\n",
       "      season  \n",
       "0     SR2020  \n",
       "1     LR2021  \n",
       "2     SR2021  \n",
       "3     LR2020  \n",
       "4     LR2021  \n",
       "...      ...  \n",
       "8658  LR2021  \n",
       "8659  SR2021  \n",
       "8660  SR2020  \n",
       "8661  SR2020  \n",
       "8662  LR2021  \n",
       "\n",
       "[8663 rows x 5 columns]"
      ]
     },
     "execution_count": 130,
     "metadata": {},
     "output_type": "execute_result"
    }
   ],
   "source": [
    "dataframe_test = pd.read_csv('./data/Test.csv')\n",
    "dataframe_test"
   ]
  },
  {
   "cell_type": "code",
   "execution_count": 131,
   "metadata": {},
   "outputs": [
    {
     "data": {
      "text/html": [
       "<div>\n",
       "<style scoped>\n",
       "    .dataframe tbody tr th:only-of-type {\n",
       "        vertical-align: middle;\n",
       "    }\n",
       "\n",
       "    .dataframe tbody tr th {\n",
       "        vertical-align: top;\n",
       "    }\n",
       "\n",
       "    .dataframe thead th {\n",
       "        text-align: right;\n",
       "    }\n",
       "</style>\n",
       "<table border=\"1\" class=\"dataframe\">\n",
       "  <thead>\n",
       "    <tr style=\"text-align: right;\">\n",
       "      <th></th>\n",
       "      <th>ID</th>\n",
       "      <th>extent</th>\n",
       "    </tr>\n",
       "  </thead>\n",
       "  <tbody>\n",
       "    <tr>\n",
       "      <th>0</th>\n",
       "      <td>ID_KJ12GE2U80</td>\n",
       "      <td>0</td>\n",
       "    </tr>\n",
       "    <tr>\n",
       "      <th>1</th>\n",
       "      <td>ID_W33POE3DBX</td>\n",
       "      <td>0</td>\n",
       "    </tr>\n",
       "    <tr>\n",
       "      <th>2</th>\n",
       "      <td>ID_1DZ7VKQTS9</td>\n",
       "      <td>0</td>\n",
       "    </tr>\n",
       "    <tr>\n",
       "      <th>3</th>\n",
       "      <td>ID_BAA59RN8RS</td>\n",
       "      <td>0</td>\n",
       "    </tr>\n",
       "    <tr>\n",
       "      <th>4</th>\n",
       "      <td>ID_45QA45VTEJ</td>\n",
       "      <td>0</td>\n",
       "    </tr>\n",
       "    <tr>\n",
       "      <th>...</th>\n",
       "      <td>...</td>\n",
       "      <td>...</td>\n",
       "    </tr>\n",
       "    <tr>\n",
       "      <th>8658</th>\n",
       "      <td>ID_UPB7G96B0U</td>\n",
       "      <td>0</td>\n",
       "    </tr>\n",
       "    <tr>\n",
       "      <th>8659</th>\n",
       "      <td>ID_NHPZ1YUUU1</td>\n",
       "      <td>0</td>\n",
       "    </tr>\n",
       "    <tr>\n",
       "      <th>8660</th>\n",
       "      <td>ID_VUKMPTVTDX</td>\n",
       "      <td>0</td>\n",
       "    </tr>\n",
       "    <tr>\n",
       "      <th>8661</th>\n",
       "      <td>ID_5D8ICCNO95</td>\n",
       "      <td>0</td>\n",
       "    </tr>\n",
       "    <tr>\n",
       "      <th>8662</th>\n",
       "      <td>ID_AK8XCT49VJ</td>\n",
       "      <td>0</td>\n",
       "    </tr>\n",
       "  </tbody>\n",
       "</table>\n",
       "<p>8663 rows × 2 columns</p>\n",
       "</div>"
      ],
      "text/plain": [
       "                 ID  extent\n",
       "0     ID_KJ12GE2U80       0\n",
       "1     ID_W33POE3DBX       0\n",
       "2     ID_1DZ7VKQTS9       0\n",
       "3     ID_BAA59RN8RS       0\n",
       "4     ID_45QA45VTEJ       0\n",
       "...             ...     ...\n",
       "8658  ID_UPB7G96B0U       0\n",
       "8659  ID_NHPZ1YUUU1       0\n",
       "8660  ID_VUKMPTVTDX       0\n",
       "8661  ID_5D8ICCNO95       0\n",
       "8662  ID_AK8XCT49VJ       0\n",
       "\n",
       "[8663 rows x 2 columns]"
      ]
     },
     "execution_count": 131,
     "metadata": {},
     "output_type": "execute_result"
    }
   ],
   "source": [
    "dataframe_sample = pd.read_csv('./data/SampleSubmission.csv')\n",
    "dataframe_sample"
   ]
  },
  {
   "attachments": {},
   "cell_type": "markdown",
   "metadata": {},
   "source": [
    "##### Vamos a verificar si existen filas repetidas con los mismos valores o no"
   ]
  },
  {
   "cell_type": "code",
   "execution_count": 132,
   "metadata": {},
   "outputs": [
    {
     "data": {
      "text/plain": [
       "False    26068\n",
       "dtype: int64"
      ]
     },
     "execution_count": 132,
     "metadata": {},
     "output_type": "execute_result"
    }
   ],
   "source": [
    "dataframe_train.duplicated().value_counts()"
   ]
  },
  {
   "cell_type": "code",
   "execution_count": 133,
   "metadata": {},
   "outputs": [
    {
     "data": {
      "text/plain": [
       "False    8663\n",
       "dtype: int64"
      ]
     },
     "execution_count": 133,
     "metadata": {},
     "output_type": "execute_result"
    }
   ],
   "source": [
    "dataframe_test.duplicated().value_counts()"
   ]
  },
  {
   "cell_type": "code",
   "execution_count": 134,
   "metadata": {},
   "outputs": [
    {
     "data": {
      "text/plain": [
       "False    8663\n",
       "dtype: int64"
      ]
     },
     "execution_count": 134,
     "metadata": {},
     "output_type": "execute_result"
    }
   ],
   "source": [
    "dataframe_sample.duplicated().value_counts()"
   ]
  },
  {
   "attachments": {},
   "cell_type": "markdown",
   "metadata": {},
   "source": [
    "Se puede ver que no existen filas repetidas"
   ]
  },
  {
   "attachments": {},
   "cell_type": "markdown",
   "metadata": {},
   "source": [
    "##### Vamos a verificar si hay data duplicada en cada una de las filas"
   ]
  },
  {
   "cell_type": "code",
   "execution_count": 135,
   "metadata": {},
   "outputs": [
    {
     "data": {
      "text/plain": [
       "L427F01330C01S03961Rp02052.jpg     1\n",
       "L415F01160C39S14146Rp41363.jpg     1\n",
       "L341F00167C01S00324Rp14178.jpg     1\n",
       "L1084F02394C39S13931Ip.jpg         1\n",
       "L361F02347C01S10018Rp27925.jpg     1\n",
       "                                  ..\n",
       "L406F02369C01S06908Rp32150.jpg     1\n",
       "L371F04405C20S11053Rp27732.jpg     1\n",
       "L1150F01299C39S12449Rp33134.jpg    1\n",
       "L342F01261C01S00366Rp01836.jpg     1\n",
       "L406F00362C01S00614Rp06760.jpg     1\n",
       "Name: filename, Length: 26068, dtype: int64"
      ]
     },
     "execution_count": 135,
     "metadata": {},
     "output_type": "execute_result"
    }
   ],
   "source": [
    "dataframe_train['filename'].value_counts().sort_values(ascending=False)"
   ]
  },
  {
   "cell_type": "code",
   "execution_count": 136,
   "metadata": {},
   "outputs": [
    {
     "data": {
      "text/plain": [
       "L122F00315C01S02151Rp04021.jpg     1\n",
       "L323F03196C01S07824Rp19277.jpg     1\n",
       "L365F01913C39S12578Rp42918.jpg     1\n",
       "223_repeat_2_2230_3599_2343.JPG    1\n",
       "L354F00276C01S08045Rp23693.jpg     1\n",
       "                                  ..\n",
       "L322F03389C39S14157Rp40614.jpg     1\n",
       "L134F00855C01S05273Rp06412.jpg     1\n",
       "L410F02877C01S02293Rp01971.jpg     1\n",
       "244_repeat_2_2083_3224_2066.JPG    1\n",
       "L1089F01682C01S08539Rp27300.jpg    1\n",
       "Name: filename, Length: 8663, dtype: int64"
      ]
     },
     "execution_count": 136,
     "metadata": {},
     "output_type": "execute_result"
    }
   ],
   "source": [
    "dataframe_test['filename'].value_counts().sort_values(ascending=False)"
   ]
  },
  {
   "cell_type": "code",
   "execution_count": 137,
   "metadata": {},
   "outputs": [
    {
     "data": {
      "text/plain": [
       "ID_1S8OOWQYCB    1\n",
       "ID_YBE047NM5J    1\n",
       "ID_DBO3ZGI1GM    1\n",
       "ID_ORZLWTEUUS    1\n",
       "ID_84VIVATWWN    1\n",
       "                ..\n",
       "ID_MSIN1S49F3    1\n",
       "ID_4OGOEC4FLT    1\n",
       "ID_8YS6Z5J14V    1\n",
       "ID_5FAHR85EJN    1\n",
       "ID_ZVBF61EA0I    1\n",
       "Name: ID, Length: 26068, dtype: int64"
      ]
     },
     "execution_count": 137,
     "metadata": {},
     "output_type": "execute_result"
    }
   ],
   "source": [
    "dataframe_train['ID'].value_counts().sort_values(ascending=False)"
   ]
  },
  {
   "cell_type": "code",
   "execution_count": 138,
   "metadata": {},
   "outputs": [
    {
     "data": {
      "text/plain": [
       "ID_ROOWKB90UZ    1\n",
       "ID_FAKTXKARL3    1\n",
       "ID_5WJXDV96R4    1\n",
       "ID_DM4AQLXXYG    1\n",
       "ID_V6YTIT7I2S    1\n",
       "                ..\n",
       "ID_HQT6T7QYA4    1\n",
       "ID_FKC93FVGL1    1\n",
       "ID_EEJLBVEFGI    1\n",
       "ID_HM6XXQNUQJ    1\n",
       "ID_2B1IP642X1    1\n",
       "Name: ID, Length: 8663, dtype: int64"
      ]
     },
     "execution_count": 138,
     "metadata": {},
     "output_type": "execute_result"
    }
   ],
   "source": [
    "dataframe_test['ID'].value_counts().sort_values(ascending=False)"
   ]
  },
  {
   "cell_type": "code",
   "execution_count": 139,
   "metadata": {},
   "outputs": [
    {
     "data": {
      "text/plain": [
       "ID_KJ12GE2U80    1\n",
       "ID_BQNDUJMFMJ    1\n",
       "ID_1DZ7VKQTS9    1\n",
       "ID_BAA59RN8RS    1\n",
       "ID_45QA45VTEJ    1\n",
       "                ..\n",
       "ID_NHPZ1YUUU1    1\n",
       "ID_VUKMPTVTDX    1\n",
       "ID_5D8ICCNO95    1\n",
       "ID_WQ3F14WFD8    1\n",
       "ID_AK8XCT49VJ    1\n",
       "Name: ID, Length: 8663, dtype: int64"
      ]
     },
     "execution_count": 139,
     "metadata": {},
     "output_type": "execute_result"
    }
   ],
   "source": [
    "dataframe_sample['ID'].value_counts().sort_values(ascending=False)"
   ]
  },
  {
   "attachments": {},
   "cell_type": "markdown",
   "metadata": {},
   "source": [
    "Como se puede observar no se encontro data duplicada en filename ni en ID."
   ]
  },
  {
   "attachments": {},
   "cell_type": "markdown",
   "metadata": {},
   "source": [
    "##### Se van a eliminar los datos duplicados"
   ]
  },
  {
   "cell_type": "code",
   "execution_count": 140,
   "metadata": {},
   "outputs": [
    {
     "name": "stdout",
     "output_type": "stream",
     "text": [
      "Train cantidad de datos: 26068\n",
      "Test cantidad de datos: 8663\n",
      "Sample cantidad de datos: 8663\n"
     ]
    }
   ],
   "source": [
    "print(f\"Train cantidad de datos: {len(dataframe_train)}\")\n",
    "print(f\"Test cantidad de datos: {len(dataframe_test)}\")\n",
    "print(f\"Sample cantidad de datos: {len(dataframe_sample)}\")"
   ]
  },
  {
   "cell_type": "code",
   "execution_count": 141,
   "metadata": {},
   "outputs": [],
   "source": [
    "def delete_duplicated_data_of_df(df, column_name):\n",
    "    return df.drop_duplicates(subset=[column_name], keep=False)"
   ]
  },
  {
   "attachments": {},
   "cell_type": "markdown",
   "metadata": {},
   "source": [
    "Eliminar duplicados de ID (Si es que hubiera)"
   ]
  },
  {
   "cell_type": "code",
   "execution_count": 142,
   "metadata": {},
   "outputs": [],
   "source": [
    "dataframe_train = delete_duplicated_data_of_df(dataframe_train, \"ID\")\n",
    "dataframe_test = delete_duplicated_data_of_df(dataframe_test, \"ID\")\n",
    "dataframe_sample = delete_duplicated_data_of_df(dataframe_sample, \"ID\")"
   ]
  },
  {
   "cell_type": "code",
   "execution_count": 143,
   "metadata": {},
   "outputs": [
    {
     "name": "stdout",
     "output_type": "stream",
     "text": [
      "Train cantidad de datos: 26068\n",
      "Test cantidad de datos: 8663\n",
      "Sample cantidad de datos: 8663\n"
     ]
    }
   ],
   "source": [
    "print(f\"Train cantidad de datos: {len(dataframe_train)}\")\n",
    "print(f\"Test cantidad de datos: {len(dataframe_test)}\")\n",
    "print(f\"Sample cantidad de datos: {len(dataframe_sample)}\")"
   ]
  },
  {
   "attachments": {},
   "cell_type": "markdown",
   "metadata": {},
   "source": [
    "Eliminar duplicados de filename (Si es que hubiera)"
   ]
  },
  {
   "cell_type": "code",
   "execution_count": 144,
   "metadata": {},
   "outputs": [],
   "source": [
    "dataframe_train = delete_duplicated_data_of_df(dataframe_train, \"filename\")\n",
    "dataframe_test = delete_duplicated_data_of_df(dataframe_test, \"filename\")"
   ]
  },
  {
   "cell_type": "code",
   "execution_count": 145,
   "metadata": {},
   "outputs": [
    {
     "name": "stdout",
     "output_type": "stream",
     "text": [
      "Train cantidad de datos: 26068\n",
      "Test cantidad de datos: 8663\n",
      "Sample cantidad de datos: 8663\n"
     ]
    }
   ],
   "source": [
    "print(f\"Train cantidad de datos: {len(dataframe_train)}\")\n",
    "print(f\"Test cantidad de datos: {len(dataframe_test)}\")\n",
    "print(f\"Sample cantidad de datos: {len(dataframe_sample)}\")"
   ]
  },
  {
   "attachments": {},
   "cell_type": "markdown",
   "metadata": {},
   "source": [
    "La cantidad de datos sigue siendo la misma y no se encontraron duplicados, por lo cual se puede concluir que la data que tenemos esta limpia :)"
   ]
  },
  {
   "attachments": {},
   "cell_type": "markdown",
   "metadata": {},
   "source": [
    "De todas formas formas optar por este tipo de revisión de data es bueno para asegurar la calidad de los datos para llevar a cabo los análisis de forma correcta."
   ]
  }
 ],
 "metadata": {
  "kernelspec": {
   "display_name": "Python 3",
   "language": "python",
   "name": "python3"
  },
  "language_info": {
   "codemirror_mode": {
    "name": "ipython",
    "version": 3
   },
   "file_extension": ".py",
   "mimetype": "text/x-python",
   "name": "python",
   "nbconvert_exporter": "python",
   "pygments_lexer": "ipython3",
   "version": "3.10.12"
  },
  "orig_nbformat": 4
 },
 "nbformat": 4,
 "nbformat_minor": 2
}
