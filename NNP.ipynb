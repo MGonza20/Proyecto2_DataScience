{
  "cells": [
    {
      "cell_type": "code",
      "execution_count": 2,
      "metadata": {
        "colab": {
          "base_uri": "https://localhost:8080/",
          "height": 206
        },
        "id": "XkrJfrTvocuj",
        "outputId": "ce916daf-aef7-43e9-ac55-68c97a79ebdb"
      },
      "outputs": [
        {
          "data": {
            "text/html": [
              "<div>\n",
              "<style scoped>\n",
              "    .dataframe tbody tr th:only-of-type {\n",
              "        vertical-align: middle;\n",
              "    }\n",
              "\n",
              "    .dataframe tbody tr th {\n",
              "        vertical-align: top;\n",
              "    }\n",
              "\n",
              "    .dataframe thead th {\n",
              "        text-align: right;\n",
              "    }\n",
              "</style>\n",
              "<table border=\"1\" class=\"dataframe\">\n",
              "  <thead>\n",
              "    <tr style=\"text-align: right;\">\n",
              "      <th></th>\n",
              "      <th>filename</th>\n",
              "      <th>growth_stage</th>\n",
              "      <th>damage</th>\n",
              "      <th>extent</th>\n",
              "      <th>season</th>\n",
              "    </tr>\n",
              "  </thead>\n",
              "  <tbody>\n",
              "    <tr>\n",
              "      <th>0</th>\n",
              "      <td>L398F01276C01S07896Rp26856.jpg</td>\n",
              "      <td>F</td>\n",
              "      <td>DR</td>\n",
              "      <td>0</td>\n",
              "      <td>LR2021</td>\n",
              "    </tr>\n",
              "    <tr>\n",
              "      <th>1</th>\n",
              "      <td>L355F02268C02S08916Rp30595.jpg</td>\n",
              "      <td>F</td>\n",
              "      <td>DR</td>\n",
              "      <td>0</td>\n",
              "      <td>LR2021</td>\n",
              "    </tr>\n",
              "    <tr>\n",
              "      <th>2</th>\n",
              "      <td>L134F00879C39S14248Rp42482.jpg</td>\n",
              "      <td>F</td>\n",
              "      <td>DR</td>\n",
              "      <td>10</td>\n",
              "      <td>SR2021</td>\n",
              "    </tr>\n",
              "    <tr>\n",
              "      <th>3</th>\n",
              "      <td>L1095F01359C01S08260Rp24587.jpg</td>\n",
              "      <td>F</td>\n",
              "      <td>DR</td>\n",
              "      <td>10</td>\n",
              "      <td>LR2021</td>\n",
              "    </tr>\n",
              "    <tr>\n",
              "      <th>4</th>\n",
              "      <td>L134F00777C39S14171Rp45993.jpg</td>\n",
              "      <td>F</td>\n",
              "      <td>DR</td>\n",
              "      <td>10</td>\n",
              "      <td>SR2021</td>\n",
              "    </tr>\n",
              "  </tbody>\n",
              "</table>\n",
              "</div>"
            ],
            "text/plain": [
              "                          filename growth_stage damage  extent  season\n",
              "0   L398F01276C01S07896Rp26856.jpg            F     DR       0  LR2021\n",
              "1   L355F02268C02S08916Rp30595.jpg            F     DR       0  LR2021\n",
              "2   L134F00879C39S14248Rp42482.jpg            F     DR      10  SR2021\n",
              "3  L1095F01359C01S08260Rp24587.jpg            F     DR      10  LR2021\n",
              "4   L134F00777C39S14171Rp45993.jpg            F     DR      10  SR2021"
            ]
          },
          "execution_count": 2,
          "metadata": {},
          "output_type": "execute_result"
        }
      ],
      "source": [
        "import pandas as pd\n",
        "\n",
        "# Cargando el dataset\n",
        "data = pd.read_csv('./data/train_clean.csv')\n",
        "\n",
        "# Mostrando las primeras filas del dataset para tener una idea del contenido\n",
        "data.head()\n"
      ]
    },
    {
      "cell_type": "code",
      "execution_count": 3,
      "metadata": {
        "colab": {
          "base_uri": "https://localhost:8080/"
        },
        "id": "QfWeNfrfpC0X",
        "outputId": "d3a44de1-23f4-4e4d-f695-699b1e232f8f"
      },
      "outputs": [
        {
          "name": "stderr",
          "output_type": "stream",
          "text": [
            "d:\\Proyectos\\VIII\\DATA\\Proyecto2_DataScience\\myenv\\Lib\\site-packages\\sklearn\\preprocessing\\_encoders.py:975: FutureWarning: `sparse` was renamed to `sparse_output` in version 1.2 and will be removed in 1.4. `sparse_output` is ignored unless you leave `sparse` to its default value.\n",
            "  warnings.warn(\n"
          ]
        },
        {
          "data": {
            "text/plain": [
              "((20856, 10), (5215, 10))"
            ]
          },
          "execution_count": 3,
          "metadata": {},
          "output_type": "execute_result"
        }
      ],
      "source": [
        "from sklearn.model_selection import train_test_split\n",
        "from sklearn.preprocessing import OneHotEncoder\n",
        "\n",
        "# Seleccionando las características y la variable objetivo\n",
        "X = data[['growth_stage', 'damage']]\n",
        "y = data['extent']\n",
        "\n",
        "# Realizando one-hot encoding para las características categóricas\n",
        "encoder = OneHotEncoder(drop='first', sparse=False)\n",
        "X_encoded = encoder.fit_transform(X)\n",
        "\n",
        "# Dividiendo el conjunto de datos en conjuntos de entrenamiento y prueba\n",
        "X_train, X_test, y_train, y_test = train_test_split(X_encoded, y, test_size=0.2, random_state=42)\n",
        "\n",
        "X_train.shape, X_test.shape\n"
      ]
    },
    {
      "cell_type": "code",
      "execution_count": 4,
      "metadata": {
        "colab": {
          "base_uri": "https://localhost:8080/"
        },
        "id": "Yef1HwxepIxW",
        "outputId": "b18142b1-7a93-4ce2-e565-96a10b822f55"
      },
      "outputs": [
        {
          "data": {
            "text/plain": [
              "182.84969544019617"
            ]
          },
          "execution_count": 4,
          "metadata": {},
          "output_type": "execute_result"
        }
      ],
      "source": [
        "from sklearn.linear_model import LinearRegression\n",
        "from sklearn.metrics import mean_squared_error\n",
        "\n",
        "# Entrenando un modelo de regresión lineal\n",
        "lr_model = LinearRegression()\n",
        "lr_model.fit(X_train, y_train)\n",
        "\n",
        "# Predicciones en el conjunto de prueba\n",
        "y_pred = lr_model.predict(X_test)\n",
        "\n",
        "# Calculando el error cuadrático medio (MSE) para evaluar el rendimiento del modelo\n",
        "mse = mean_squared_error(y_test, y_pred)\n",
        "\n",
        "mse\n"
      ]
    },
    {
      "cell_type": "code",
      "execution_count": 5,
      "metadata": {
        "colab": {
          "base_uri": "https://localhost:8080/"
        },
        "id": "c8dWl5jmpKtX",
        "outputId": "a32d294f-0fb9-4fb4-f835-29bfb6b5e768"
      },
      "outputs": [
        {
          "data": {
            "text/plain": [
              "180.7766557051277"
            ]
          },
          "execution_count": 5,
          "metadata": {},
          "output_type": "execute_result"
        }
      ],
      "source": [
        "from sklearn.ensemble import RandomForestRegressor\n",
        "\n",
        "# Entrenando un modelo de Random Forest\n",
        "rf_model = RandomForestRegressor(n_estimators=100, random_state=42)\n",
        "rf_model.fit(X_train, y_train)\n",
        "\n",
        "# Predicciones en el conjunto de prueba\n",
        "y_pred_rf = rf_model.predict(X_test)\n",
        "\n",
        "# Calculando el error cuadrático medio (MSE) para evaluar el rendimiento del modelo\n",
        "mse_rf = mean_squared_error(y_test, y_pred_rf)\n",
        "\n",
        "mse_rf\n"
      ]
    },
    {
      "cell_type": "code",
      "execution_count": 7,
      "metadata": {
        "colab": {
          "base_uri": "https://localhost:8080/"
        },
        "id": "9oRs2Mn9pM8A",
        "outputId": "7a74c1d7-c918-405f-9269-b3f99a881354"
      },
      "outputs": [
        {
          "data": {
            "text/plain": [
              "(torch.Size([20856, 10]), torch.Size([20856, 1]))"
            ]
          },
          "execution_count": 7,
          "metadata": {},
          "output_type": "execute_result"
        }
      ],
      "source": [
        "import torch\n",
        "import torch.nn as nn\n",
        "import torch.optim as optim\n",
        "from torch.utils.data import DataLoader, TensorDataset\n",
        "\n",
        "# Convirtiendo los datos a tensores de PyTorch\n",
        "X_train_tensor = torch.FloatTensor(X_train)\n",
        "y_train_tensor = torch.FloatTensor(y_train.values).view(-1, 1)\n",
        "X_test_tensor = torch.FloatTensor(X_test)\n",
        "y_test_tensor = torch.FloatTensor(y_test.values).view(-1, 1)\n",
        "\n",
        "# Creando conjuntos de datos y cargadores de datos\n",
        "train_dataset = TensorDataset(X_train_tensor, y_train_tensor)\n",
        "test_dataset = TensorDataset(X_test_tensor, y_test_tensor)\n",
        "train_loader = DataLoader(train_dataset, batch_size=64, shuffle=True)\n",
        "test_loader = DataLoader(test_dataset, batch_size=64, shuffle=False)\n",
        "\n",
        "X_train_tensor.shape, y_train_tensor.shape\n"
      ]
    },
    {
      "cell_type": "code",
      "execution_count": 8,
      "metadata": {
        "id": "AG1CWDYppkdj"
      },
      "outputs": [],
      "source": [
        "class SimpleNN(nn.Module):\n",
        "    def __init__(self):\n",
        "        super(SimpleNN, self).__init__()\n",
        "        self.fc1 = nn.Linear(10, 64)  # Capa oculta\n",
        "        self.fc2 = nn.Linear(64, 1)   # Capa de salida\n",
        "\n",
        "    def forward(self, x):\n",
        "        x = torch.relu(self.fc1(x))\n",
        "        x = self.fc2(x)\n",
        "        return x\n"
      ]
    },
    {
      "cell_type": "code",
      "execution_count": 21,
      "metadata": {
        "id": "IKNOdhhCpmYf"
      },
      "outputs": [],
      "source": [
        "model = SimpleNN()\n",
        "criterion = nn.MSELoss()\n",
        "optimizer = optim.Adam(model.parameters(), lr=0.001)\n"
      ]
    },
    {
      "cell_type": "code",
      "execution_count": 20,
      "metadata": {
        "id": "3M_7K873sdDB"
      },
      "outputs": [],
      "source": [
        "from torch.utils.tensorboard import SummaryWriter\n",
        "\n",
        "# Crear un SummaryWriter para escribir a la carpeta './runs'\n",
        "writer = SummaryWriter('runs/simple_nn3')\n"
      ]
    },
    {
      "cell_type": "code",
      "execution_count": 22,
      "metadata": {
        "colab": {
          "base_uri": "https://localhost:8080/"
        },
        "id": "p9OXB5lPpoik",
        "outputId": "e70683fc-be84-4906-9b24-e7a9df0ccb9e"
      },
      "outputs": [
        {
          "name": "stdout",
          "output_type": "stream",
          "text": [
            "Epoch [1/1000], Training Loss: 397.5710, Validation Loss: 294.7775\n",
            "Epoch [101/1000], Training Loss: 144.4411, Validation Loss: 180.6687\n",
            "Epoch [201/1000], Training Loss: 179.0697, Validation Loss: 180.9320\n",
            "Epoch [301/1000], Training Loss: 109.5014, Validation Loss: 181.7579\n",
            "Epoch [401/1000], Training Loss: 197.4581, Validation Loss: 181.4959\n",
            "Epoch [501/1000], Training Loss: 102.2847, Validation Loss: 181.3546\n",
            "Epoch [601/1000], Training Loss: 291.3906, Validation Loss: 181.3379\n",
            "Epoch [701/1000], Training Loss: 229.0615, Validation Loss: 181.3561\n",
            "Epoch [801/1000], Training Loss: 112.8123, Validation Loss: 181.0569\n",
            "Epoch [901/1000], Training Loss: 146.2479, Validation Loss: 181.5776\n"
          ]
        }
      ],
      "source": [
        "num_epochs = 1000\n",
        "def evaluate_model(model, test_loader, criterion):\n",
        "    \"\"\"\n",
        "    Evalúa el modelo en el conjunto de validación.\n",
        "    \"\"\"\n",
        "    model.eval()  # Pone el modelo en modo de evaluación\n",
        "    total_loss = 0.0\n",
        "    with torch.no_grad():  # Desactiva el cálculo de gradientes durante la evaluación\n",
        "        for data, target in test_loader:\n",
        "            outputs = model(data)\n",
        "            loss = criterion(outputs, target)\n",
        "            total_loss += loss.item()\n",
        "    average_loss = total_loss / len(test_loader)\n",
        "    return average_loss\n",
        "\n",
        "# Training loop modificado para incluir \"validation loss\":\n",
        "for epoch in range(num_epochs):\n",
        "    model.train()  # Pone el modelo en modo de entrenamiento\n",
        "    for batch_idx, (data, target) in enumerate(train_loader):\n",
        "        optimizer.zero_grad()\n",
        "        outputs = model(data)\n",
        "        loss = criterion(outputs, target)\n",
        "        loss.backward()\n",
        "        optimizer.step()\n",
        "\n",
        "    # Evaluar el \"validation loss\"\n",
        "    val_loss = evaluate_model(model, test_loader, criterion)\n",
        "\n",
        "    # Imprimir la pérdida cada 10 épocas\n",
        "    if epoch % 100 == 0:\n",
        "        print(f'Epoch [{epoch+1}/{num_epochs}], Training Loss: {loss.item():.4f}, Validation Loss: {val_loss:.4f}')\n",
        "        \n",
        "        # Escribir en TensorBoard\n",
        "        writer.add_scalar('training loss', loss.item(), global_step= epoch)\n",
        "        writer.add_scalar('validation loss', val_loss, global_step=epoch)\n",
        "        writer.add_scalars('Losses', {\n",
        "        'Training Loss': loss.item(),\n",
        "        'Validation Loss': val_loss\n",
        "        }, global_step=epoch)\n"
      ]
    },
    {
      "cell_type": "code",
      "execution_count": 26,
      "metadata": {},
      "outputs": [
        {
          "data": {
            "text/html": [
              "<div>\n",
              "<style scoped>\n",
              "    .dataframe tbody tr th:only-of-type {\n",
              "        vertical-align: middle;\n",
              "    }\n",
              "\n",
              "    .dataframe tbody tr th {\n",
              "        vertical-align: top;\n",
              "    }\n",
              "\n",
              "    .dataframe thead th {\n",
              "        text-align: right;\n",
              "    }\n",
              "</style>\n",
              "<table border=\"1\" class=\"dataframe\">\n",
              "  <thead>\n",
              "    <tr style=\"text-align: right;\">\n",
              "      <th></th>\n",
              "      <th>growth_stage</th>\n",
              "      <th>damage</th>\n",
              "    </tr>\n",
              "  </thead>\n",
              "  <tbody>\n",
              "    <tr>\n",
              "      <th>0</th>\n",
              "      <td>F</td>\n",
              "      <td>DR</td>\n",
              "    </tr>\n",
              "  </tbody>\n",
              "</table>\n",
              "</div>"
            ],
            "text/plain": [
              "  growth_stage damage\n",
              "0            F     DR"
            ]
          },
          "execution_count": 26,
          "metadata": {},
          "output_type": "execute_result"
        }
      ],
      "source": [
        "# Evaluar un dato\n",
        "# Assuming `data` is a single data point and `target` is the corresponding target value\n",
        "\n",
        "ejemplo = {\n",
        "   # \"filename\": \"L355F02268C02S08916Rp30595.jpg\",\n",
        "    \"growth_stage\": \"F\",\n",
        "    \"damage\":\"DR\",\n",
        "   # \"season\":\"LR2021\"\n",
        "}\n",
        "\n",
        "new_data = pd.DataFrame([ejemplo])\n",
        "new_data.head()\n",
        "\n",
        "\n",
        "\n"
      ]
    },
    {
      "cell_type": "code",
      "execution_count": 27,
      "metadata": {},
      "outputs": [
        {
          "data": {
            "text/plain": [
              "(1, 10)"
            ]
          },
          "execution_count": 27,
          "metadata": {},
          "output_type": "execute_result"
        }
      ],
      "source": [
        "new_data_encoded = encoder.transform(new_data)\n",
        "\n",
        "new_data_encoded.shape"
      ]
    },
    {
      "cell_type": "code",
      "execution_count": 33,
      "metadata": {},
      "outputs": [
        {
          "name": "stdout",
          "output_type": "stream",
          "text": [
            "tensor([[33.6498]])\n",
            "33.64975357055664\n"
          ]
        }
      ],
      "source": [
        "# 1. Preprocesar el nuevo dato\n",
        "\n",
        "# Realizar one-hot encoding con el encoder ya entrenado\n",
        "new_data_encoded = encoder.transform(new_data)\n",
        "\n",
        "# Convertir el numpy array a un tensor de PyTorch\n",
        "new_data_tensor = torch.FloatTensor(new_data_encoded)\n",
        "\n",
        "# 2. Realizar una predicción con el modelo\n",
        "\n",
        "model.eval()  # Put the model in evaluation mode\n",
        "with torch.no_grad():  # Disable gradient calculation during evaluation\n",
        "    output = model(new_data_tensor)\n",
        "\n",
        "# Output de tensor a int\n",
        "output_int = output.item()\n",
        "print(output_int)\n"
      ]
    }
  ],
  "metadata": {
    "colab": {
      "provenance": []
    },
    "kernelspec": {
      "display_name": "Python 3",
      "name": "python3"
    },
    "language_info": {
      "codemirror_mode": {
        "name": "ipython",
        "version": 3
      },
      "file_extension": ".py",
      "mimetype": "text/x-python",
      "name": "python",
      "nbconvert_exporter": "python",
      "pygments_lexer": "ipython3",
      "version": "3.11.4"
    }
  },
  "nbformat": 4,
  "nbformat_minor": 0
}
