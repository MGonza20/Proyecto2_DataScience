{
  "cells": [
    {
      "cell_type": "markdown",
      "metadata": {
        "id": "d_CPGr1Sd3lz"
      },
      "source": [
        "# Modelo de regresión\n",
        "1. Transformar el csv 0 - 1\n",
        "2. Obtener imagenes\n",
        "3. Crear valores Y para cada imagen\n",
        "4. Crear el modelo\n",
        "5. Entrenar el modelo\n",
        "6. Comparar resultados"
      ]
    },
    {
      "cell_type": "markdown",
      "metadata": {
        "id": "lLoGL-BkfU8P"
      },
      "source": [
        "## 1. Transformar csv 0 - 1"
      ]
    },
    {
      "cell_type": "code",
      "execution_count": 2,
      "metadata": {
        "id": "t-IG-PRueGFT",
        "colab": {
          "base_uri": "https://localhost:8080/"
        },
        "outputId": "b335a595-82e3-4292-f29f-9e6d28aed4c8"
      },
      "outputs": [
        {
          "output_type": "stream",
          "name": "stdout",
          "text": [
            "Drive already mounted at /content/drive; to attempt to forcibly remount, call drive.mount(\"/content/drive\", force_remount=True).\n"
          ]
        }
      ],
      "source": [
        "from google.colab import drive\n",
        "import pandas as pd\n",
        "import numpy as np\n",
        "drive.mount('/content/drive',)"
      ]
    },
    {
      "cell_type": "code",
      "execution_count": 3,
      "metadata": {
        "id": "08h-p1mPeVrR",
        "colab": {
          "base_uri": "https://localhost:8080/",
          "height": 206
        },
        "outputId": "6b12fcb5-d49e-41f7-ed11-55ae88ad89a7"
      },
      "outputs": [
        {
          "output_type": "execute_result",
          "data": {
            "text/plain": [
              "                          filename growth_stage damage  extent  season\n",
              "0   L398F01276C01S07896Rp26856.jpg            F     DR       0  LR2021\n",
              "1   L355F02268C02S08916Rp30595.jpg            F     DR       0  LR2021\n",
              "2   L134F00879C39S14248Rp42482.jpg            F     DR      10  SR2021\n",
              "3  L1095F01359C01S08260Rp24587.jpg            F     DR      10  LR2021\n",
              "4   L134F00777C39S14171Rp45993.jpg            F     DR      10  SR2021"
            ],
            "text/html": [
              "\n",
              "  <div id=\"df-194f4e2a-c662-4561-892a-e3df5b3b8554\" class=\"colab-df-container\">\n",
              "    <div>\n",
              "<style scoped>\n",
              "    .dataframe tbody tr th:only-of-type {\n",
              "        vertical-align: middle;\n",
              "    }\n",
              "\n",
              "    .dataframe tbody tr th {\n",
              "        vertical-align: top;\n",
              "    }\n",
              "\n",
              "    .dataframe thead th {\n",
              "        text-align: right;\n",
              "    }\n",
              "</style>\n",
              "<table border=\"1\" class=\"dataframe\">\n",
              "  <thead>\n",
              "    <tr style=\"text-align: right;\">\n",
              "      <th></th>\n",
              "      <th>filename</th>\n",
              "      <th>growth_stage</th>\n",
              "      <th>damage</th>\n",
              "      <th>extent</th>\n",
              "      <th>season</th>\n",
              "    </tr>\n",
              "  </thead>\n",
              "  <tbody>\n",
              "    <tr>\n",
              "      <th>0</th>\n",
              "      <td>L398F01276C01S07896Rp26856.jpg</td>\n",
              "      <td>F</td>\n",
              "      <td>DR</td>\n",
              "      <td>0</td>\n",
              "      <td>LR2021</td>\n",
              "    </tr>\n",
              "    <tr>\n",
              "      <th>1</th>\n",
              "      <td>L355F02268C02S08916Rp30595.jpg</td>\n",
              "      <td>F</td>\n",
              "      <td>DR</td>\n",
              "      <td>0</td>\n",
              "      <td>LR2021</td>\n",
              "    </tr>\n",
              "    <tr>\n",
              "      <th>2</th>\n",
              "      <td>L134F00879C39S14248Rp42482.jpg</td>\n",
              "      <td>F</td>\n",
              "      <td>DR</td>\n",
              "      <td>10</td>\n",
              "      <td>SR2021</td>\n",
              "    </tr>\n",
              "    <tr>\n",
              "      <th>3</th>\n",
              "      <td>L1095F01359C01S08260Rp24587.jpg</td>\n",
              "      <td>F</td>\n",
              "      <td>DR</td>\n",
              "      <td>10</td>\n",
              "      <td>LR2021</td>\n",
              "    </tr>\n",
              "    <tr>\n",
              "      <th>4</th>\n",
              "      <td>L134F00777C39S14171Rp45993.jpg</td>\n",
              "      <td>F</td>\n",
              "      <td>DR</td>\n",
              "      <td>10</td>\n",
              "      <td>SR2021</td>\n",
              "    </tr>\n",
              "  </tbody>\n",
              "</table>\n",
              "</div>\n",
              "    <div class=\"colab-df-buttons\">\n",
              "\n",
              "  <div class=\"colab-df-container\">\n",
              "    <button class=\"colab-df-convert\" onclick=\"convertToInteractive('df-194f4e2a-c662-4561-892a-e3df5b3b8554')\"\n",
              "            title=\"Convert this dataframe to an interactive table.\"\n",
              "            style=\"display:none;\">\n",
              "\n",
              "  <svg xmlns=\"http://www.w3.org/2000/svg\" height=\"24px\" viewBox=\"0 -960 960 960\">\n",
              "    <path d=\"M120-120v-720h720v720H120Zm60-500h600v-160H180v160Zm220 220h160v-160H400v160Zm0 220h160v-160H400v160ZM180-400h160v-160H180v160Zm440 0h160v-160H620v160ZM180-180h160v-160H180v160Zm440 0h160v-160H620v160Z\"/>\n",
              "  </svg>\n",
              "    </button>\n",
              "\n",
              "  <style>\n",
              "    .colab-df-container {\n",
              "      display:flex;\n",
              "      gap: 12px;\n",
              "    }\n",
              "\n",
              "    .colab-df-convert {\n",
              "      background-color: #E8F0FE;\n",
              "      border: none;\n",
              "      border-radius: 50%;\n",
              "      cursor: pointer;\n",
              "      display: none;\n",
              "      fill: #1967D2;\n",
              "      height: 32px;\n",
              "      padding: 0 0 0 0;\n",
              "      width: 32px;\n",
              "    }\n",
              "\n",
              "    .colab-df-convert:hover {\n",
              "      background-color: #E2EBFA;\n",
              "      box-shadow: 0px 1px 2px rgba(60, 64, 67, 0.3), 0px 1px 3px 1px rgba(60, 64, 67, 0.15);\n",
              "      fill: #174EA6;\n",
              "    }\n",
              "\n",
              "    .colab-df-buttons div {\n",
              "      margin-bottom: 4px;\n",
              "    }\n",
              "\n",
              "    [theme=dark] .colab-df-convert {\n",
              "      background-color: #3B4455;\n",
              "      fill: #D2E3FC;\n",
              "    }\n",
              "\n",
              "    [theme=dark] .colab-df-convert:hover {\n",
              "      background-color: #434B5C;\n",
              "      box-shadow: 0px 1px 3px 1px rgba(0, 0, 0, 0.15);\n",
              "      filter: drop-shadow(0px 1px 2px rgba(0, 0, 0, 0.3));\n",
              "      fill: #FFFFFF;\n",
              "    }\n",
              "  </style>\n",
              "\n",
              "    <script>\n",
              "      const buttonEl =\n",
              "        document.querySelector('#df-194f4e2a-c662-4561-892a-e3df5b3b8554 button.colab-df-convert');\n",
              "      buttonEl.style.display =\n",
              "        google.colab.kernel.accessAllowed ? 'block' : 'none';\n",
              "\n",
              "      async function convertToInteractive(key) {\n",
              "        const element = document.querySelector('#df-194f4e2a-c662-4561-892a-e3df5b3b8554');\n",
              "        const dataTable =\n",
              "          await google.colab.kernel.invokeFunction('convertToInteractive',\n",
              "                                                    [key], {});\n",
              "        if (!dataTable) return;\n",
              "\n",
              "        const docLinkHtml = 'Like what you see? Visit the ' +\n",
              "          '<a target=\"_blank\" href=https://colab.research.google.com/notebooks/data_table.ipynb>data table notebook</a>'\n",
              "          + ' to learn more about interactive tables.';\n",
              "        element.innerHTML = '';\n",
              "        dataTable['output_type'] = 'display_data';\n",
              "        await google.colab.output.renderOutput(dataTable, element);\n",
              "        const docLink = document.createElement('div');\n",
              "        docLink.innerHTML = docLinkHtml;\n",
              "        element.appendChild(docLink);\n",
              "      }\n",
              "    </script>\n",
              "  </div>\n",
              "\n",
              "\n",
              "<div id=\"df-394b5cd5-9cfe-4f7f-aa6b-491393de38e9\">\n",
              "  <button class=\"colab-df-quickchart\" onclick=\"quickchart('df-394b5cd5-9cfe-4f7f-aa6b-491393de38e9')\"\n",
              "            title=\"Suggest charts\"\n",
              "            style=\"display:none;\">\n",
              "\n",
              "<svg xmlns=\"http://www.w3.org/2000/svg\" height=\"24px\"viewBox=\"0 0 24 24\"\n",
              "     width=\"24px\">\n",
              "    <g>\n",
              "        <path d=\"M19 3H5c-1.1 0-2 .9-2 2v14c0 1.1.9 2 2 2h14c1.1 0 2-.9 2-2V5c0-1.1-.9-2-2-2zM9 17H7v-7h2v7zm4 0h-2V7h2v10zm4 0h-2v-4h2v4z\"/>\n",
              "    </g>\n",
              "</svg>\n",
              "  </button>\n",
              "\n",
              "<style>\n",
              "  .colab-df-quickchart {\n",
              "      --bg-color: #E8F0FE;\n",
              "      --fill-color: #1967D2;\n",
              "      --hover-bg-color: #E2EBFA;\n",
              "      --hover-fill-color: #174EA6;\n",
              "      --disabled-fill-color: #AAA;\n",
              "      --disabled-bg-color: #DDD;\n",
              "  }\n",
              "\n",
              "  [theme=dark] .colab-df-quickchart {\n",
              "      --bg-color: #3B4455;\n",
              "      --fill-color: #D2E3FC;\n",
              "      --hover-bg-color: #434B5C;\n",
              "      --hover-fill-color: #FFFFFF;\n",
              "      --disabled-bg-color: #3B4455;\n",
              "      --disabled-fill-color: #666;\n",
              "  }\n",
              "\n",
              "  .colab-df-quickchart {\n",
              "    background-color: var(--bg-color);\n",
              "    border: none;\n",
              "    border-radius: 50%;\n",
              "    cursor: pointer;\n",
              "    display: none;\n",
              "    fill: var(--fill-color);\n",
              "    height: 32px;\n",
              "    padding: 0;\n",
              "    width: 32px;\n",
              "  }\n",
              "\n",
              "  .colab-df-quickchart:hover {\n",
              "    background-color: var(--hover-bg-color);\n",
              "    box-shadow: 0 1px 2px rgba(60, 64, 67, 0.3), 0 1px 3px 1px rgba(60, 64, 67, 0.15);\n",
              "    fill: var(--button-hover-fill-color);\n",
              "  }\n",
              "\n",
              "  .colab-df-quickchart-complete:disabled,\n",
              "  .colab-df-quickchart-complete:disabled:hover {\n",
              "    background-color: var(--disabled-bg-color);\n",
              "    fill: var(--disabled-fill-color);\n",
              "    box-shadow: none;\n",
              "  }\n",
              "\n",
              "  .colab-df-spinner {\n",
              "    border: 2px solid var(--fill-color);\n",
              "    border-color: transparent;\n",
              "    border-bottom-color: var(--fill-color);\n",
              "    animation:\n",
              "      spin 1s steps(1) infinite;\n",
              "  }\n",
              "\n",
              "  @keyframes spin {\n",
              "    0% {\n",
              "      border-color: transparent;\n",
              "      border-bottom-color: var(--fill-color);\n",
              "      border-left-color: var(--fill-color);\n",
              "    }\n",
              "    20% {\n",
              "      border-color: transparent;\n",
              "      border-left-color: var(--fill-color);\n",
              "      border-top-color: var(--fill-color);\n",
              "    }\n",
              "    30% {\n",
              "      border-color: transparent;\n",
              "      border-left-color: var(--fill-color);\n",
              "      border-top-color: var(--fill-color);\n",
              "      border-right-color: var(--fill-color);\n",
              "    }\n",
              "    40% {\n",
              "      border-color: transparent;\n",
              "      border-right-color: var(--fill-color);\n",
              "      border-top-color: var(--fill-color);\n",
              "    }\n",
              "    60% {\n",
              "      border-color: transparent;\n",
              "      border-right-color: var(--fill-color);\n",
              "    }\n",
              "    80% {\n",
              "      border-color: transparent;\n",
              "      border-right-color: var(--fill-color);\n",
              "      border-bottom-color: var(--fill-color);\n",
              "    }\n",
              "    90% {\n",
              "      border-color: transparent;\n",
              "      border-bottom-color: var(--fill-color);\n",
              "    }\n",
              "  }\n",
              "</style>\n",
              "\n",
              "  <script>\n",
              "    async function quickchart(key) {\n",
              "      const quickchartButtonEl =\n",
              "        document.querySelector('#' + key + ' button');\n",
              "      quickchartButtonEl.disabled = true;  // To prevent multiple clicks.\n",
              "      quickchartButtonEl.classList.add('colab-df-spinner');\n",
              "      try {\n",
              "        const charts = await google.colab.kernel.invokeFunction(\n",
              "            'suggestCharts', [key], {});\n",
              "      } catch (error) {\n",
              "        console.error('Error during call to suggestCharts:', error);\n",
              "      }\n",
              "      quickchartButtonEl.classList.remove('colab-df-spinner');\n",
              "      quickchartButtonEl.classList.add('colab-df-quickchart-complete');\n",
              "    }\n",
              "    (() => {\n",
              "      let quickchartButtonEl =\n",
              "        document.querySelector('#df-394b5cd5-9cfe-4f7f-aa6b-491393de38e9 button');\n",
              "      quickchartButtonEl.style.display =\n",
              "        google.colab.kernel.accessAllowed ? 'block' : 'none';\n",
              "    })();\n",
              "  </script>\n",
              "</div>\n",
              "    </div>\n",
              "  </div>\n"
            ]
          },
          "metadata": {},
          "execution_count": 3
        }
      ],
      "source": [
        "drive_path = '/content/drive/Shareddrives/Data Science Proyecto 2/DataSets'\n",
        "\n",
        "df = pd.read_csv( drive_path + '/train.csv')\n",
        "df.head()"
      ]
    },
    {
      "cell_type": "code",
      "execution_count": 4,
      "metadata": {
        "id": "Ntxz6CI9ec_r",
        "colab": {
          "base_uri": "https://localhost:8080/",
          "height": 206
        },
        "outputId": "ddc3b4af-121d-4fa5-8964-f0499da1dd9a"
      },
      "outputs": [
        {
          "output_type": "execute_result",
          "data": {
            "text/plain": [
              "                          filename growth_stage damage  extent  season\n",
              "0   L398F01276C01S07896Rp26856.jpg            F     DR     0.0  LR2021\n",
              "1   L355F02268C02S08916Rp30595.jpg            F     DR     0.0  LR2021\n",
              "2   L134F00879C39S14248Rp42482.jpg            F     DR     0.1  SR2021\n",
              "3  L1095F01359C01S08260Rp24587.jpg            F     DR     0.1  LR2021\n",
              "4   L134F00777C39S14171Rp45993.jpg            F     DR     0.1  SR2021"
            ],
            "text/html": [
              "\n",
              "  <div id=\"df-7ce7e8ba-2348-4e72-98fc-69c82bc6874d\" class=\"colab-df-container\">\n",
              "    <div>\n",
              "<style scoped>\n",
              "    .dataframe tbody tr th:only-of-type {\n",
              "        vertical-align: middle;\n",
              "    }\n",
              "\n",
              "    .dataframe tbody tr th {\n",
              "        vertical-align: top;\n",
              "    }\n",
              "\n",
              "    .dataframe thead th {\n",
              "        text-align: right;\n",
              "    }\n",
              "</style>\n",
              "<table border=\"1\" class=\"dataframe\">\n",
              "  <thead>\n",
              "    <tr style=\"text-align: right;\">\n",
              "      <th></th>\n",
              "      <th>filename</th>\n",
              "      <th>growth_stage</th>\n",
              "      <th>damage</th>\n",
              "      <th>extent</th>\n",
              "      <th>season</th>\n",
              "    </tr>\n",
              "  </thead>\n",
              "  <tbody>\n",
              "    <tr>\n",
              "      <th>0</th>\n",
              "      <td>L398F01276C01S07896Rp26856.jpg</td>\n",
              "      <td>F</td>\n",
              "      <td>DR</td>\n",
              "      <td>0.0</td>\n",
              "      <td>LR2021</td>\n",
              "    </tr>\n",
              "    <tr>\n",
              "      <th>1</th>\n",
              "      <td>L355F02268C02S08916Rp30595.jpg</td>\n",
              "      <td>F</td>\n",
              "      <td>DR</td>\n",
              "      <td>0.0</td>\n",
              "      <td>LR2021</td>\n",
              "    </tr>\n",
              "    <tr>\n",
              "      <th>2</th>\n",
              "      <td>L134F00879C39S14248Rp42482.jpg</td>\n",
              "      <td>F</td>\n",
              "      <td>DR</td>\n",
              "      <td>0.1</td>\n",
              "      <td>SR2021</td>\n",
              "    </tr>\n",
              "    <tr>\n",
              "      <th>3</th>\n",
              "      <td>L1095F01359C01S08260Rp24587.jpg</td>\n",
              "      <td>F</td>\n",
              "      <td>DR</td>\n",
              "      <td>0.1</td>\n",
              "      <td>LR2021</td>\n",
              "    </tr>\n",
              "    <tr>\n",
              "      <th>4</th>\n",
              "      <td>L134F00777C39S14171Rp45993.jpg</td>\n",
              "      <td>F</td>\n",
              "      <td>DR</td>\n",
              "      <td>0.1</td>\n",
              "      <td>SR2021</td>\n",
              "    </tr>\n",
              "  </tbody>\n",
              "</table>\n",
              "</div>\n",
              "    <div class=\"colab-df-buttons\">\n",
              "\n",
              "  <div class=\"colab-df-container\">\n",
              "    <button class=\"colab-df-convert\" onclick=\"convertToInteractive('df-7ce7e8ba-2348-4e72-98fc-69c82bc6874d')\"\n",
              "            title=\"Convert this dataframe to an interactive table.\"\n",
              "            style=\"display:none;\">\n",
              "\n",
              "  <svg xmlns=\"http://www.w3.org/2000/svg\" height=\"24px\" viewBox=\"0 -960 960 960\">\n",
              "    <path d=\"M120-120v-720h720v720H120Zm60-500h600v-160H180v160Zm220 220h160v-160H400v160Zm0 220h160v-160H400v160ZM180-400h160v-160H180v160Zm440 0h160v-160H620v160ZM180-180h160v-160H180v160Zm440 0h160v-160H620v160Z\"/>\n",
              "  </svg>\n",
              "    </button>\n",
              "\n",
              "  <style>\n",
              "    .colab-df-container {\n",
              "      display:flex;\n",
              "      gap: 12px;\n",
              "    }\n",
              "\n",
              "    .colab-df-convert {\n",
              "      background-color: #E8F0FE;\n",
              "      border: none;\n",
              "      border-radius: 50%;\n",
              "      cursor: pointer;\n",
              "      display: none;\n",
              "      fill: #1967D2;\n",
              "      height: 32px;\n",
              "      padding: 0 0 0 0;\n",
              "      width: 32px;\n",
              "    }\n",
              "\n",
              "    .colab-df-convert:hover {\n",
              "      background-color: #E2EBFA;\n",
              "      box-shadow: 0px 1px 2px rgba(60, 64, 67, 0.3), 0px 1px 3px 1px rgba(60, 64, 67, 0.15);\n",
              "      fill: #174EA6;\n",
              "    }\n",
              "\n",
              "    .colab-df-buttons div {\n",
              "      margin-bottom: 4px;\n",
              "    }\n",
              "\n",
              "    [theme=dark] .colab-df-convert {\n",
              "      background-color: #3B4455;\n",
              "      fill: #D2E3FC;\n",
              "    }\n",
              "\n",
              "    [theme=dark] .colab-df-convert:hover {\n",
              "      background-color: #434B5C;\n",
              "      box-shadow: 0px 1px 3px 1px rgba(0, 0, 0, 0.15);\n",
              "      filter: drop-shadow(0px 1px 2px rgba(0, 0, 0, 0.3));\n",
              "      fill: #FFFFFF;\n",
              "    }\n",
              "  </style>\n",
              "\n",
              "    <script>\n",
              "      const buttonEl =\n",
              "        document.querySelector('#df-7ce7e8ba-2348-4e72-98fc-69c82bc6874d button.colab-df-convert');\n",
              "      buttonEl.style.display =\n",
              "        google.colab.kernel.accessAllowed ? 'block' : 'none';\n",
              "\n",
              "      async function convertToInteractive(key) {\n",
              "        const element = document.querySelector('#df-7ce7e8ba-2348-4e72-98fc-69c82bc6874d');\n",
              "        const dataTable =\n",
              "          await google.colab.kernel.invokeFunction('convertToInteractive',\n",
              "                                                    [key], {});\n",
              "        if (!dataTable) return;\n",
              "\n",
              "        const docLinkHtml = 'Like what you see? Visit the ' +\n",
              "          '<a target=\"_blank\" href=https://colab.research.google.com/notebooks/data_table.ipynb>data table notebook</a>'\n",
              "          + ' to learn more about interactive tables.';\n",
              "        element.innerHTML = '';\n",
              "        dataTable['output_type'] = 'display_data';\n",
              "        await google.colab.output.renderOutput(dataTable, element);\n",
              "        const docLink = document.createElement('div');\n",
              "        docLink.innerHTML = docLinkHtml;\n",
              "        element.appendChild(docLink);\n",
              "      }\n",
              "    </script>\n",
              "  </div>\n",
              "\n",
              "\n",
              "<div id=\"df-2cbd391e-5c06-4a55-a06f-3b6ca6f6f218\">\n",
              "  <button class=\"colab-df-quickchart\" onclick=\"quickchart('df-2cbd391e-5c06-4a55-a06f-3b6ca6f6f218')\"\n",
              "            title=\"Suggest charts\"\n",
              "            style=\"display:none;\">\n",
              "\n",
              "<svg xmlns=\"http://www.w3.org/2000/svg\" height=\"24px\"viewBox=\"0 0 24 24\"\n",
              "     width=\"24px\">\n",
              "    <g>\n",
              "        <path d=\"M19 3H5c-1.1 0-2 .9-2 2v14c0 1.1.9 2 2 2h14c1.1 0 2-.9 2-2V5c0-1.1-.9-2-2-2zM9 17H7v-7h2v7zm4 0h-2V7h2v10zm4 0h-2v-4h2v4z\"/>\n",
              "    </g>\n",
              "</svg>\n",
              "  </button>\n",
              "\n",
              "<style>\n",
              "  .colab-df-quickchart {\n",
              "      --bg-color: #E8F0FE;\n",
              "      --fill-color: #1967D2;\n",
              "      --hover-bg-color: #E2EBFA;\n",
              "      --hover-fill-color: #174EA6;\n",
              "      --disabled-fill-color: #AAA;\n",
              "      --disabled-bg-color: #DDD;\n",
              "  }\n",
              "\n",
              "  [theme=dark] .colab-df-quickchart {\n",
              "      --bg-color: #3B4455;\n",
              "      --fill-color: #D2E3FC;\n",
              "      --hover-bg-color: #434B5C;\n",
              "      --hover-fill-color: #FFFFFF;\n",
              "      --disabled-bg-color: #3B4455;\n",
              "      --disabled-fill-color: #666;\n",
              "  }\n",
              "\n",
              "  .colab-df-quickchart {\n",
              "    background-color: var(--bg-color);\n",
              "    border: none;\n",
              "    border-radius: 50%;\n",
              "    cursor: pointer;\n",
              "    display: none;\n",
              "    fill: var(--fill-color);\n",
              "    height: 32px;\n",
              "    padding: 0;\n",
              "    width: 32px;\n",
              "  }\n",
              "\n",
              "  .colab-df-quickchart:hover {\n",
              "    background-color: var(--hover-bg-color);\n",
              "    box-shadow: 0 1px 2px rgba(60, 64, 67, 0.3), 0 1px 3px 1px rgba(60, 64, 67, 0.15);\n",
              "    fill: var(--button-hover-fill-color);\n",
              "  }\n",
              "\n",
              "  .colab-df-quickchart-complete:disabled,\n",
              "  .colab-df-quickchart-complete:disabled:hover {\n",
              "    background-color: var(--disabled-bg-color);\n",
              "    fill: var(--disabled-fill-color);\n",
              "    box-shadow: none;\n",
              "  }\n",
              "\n",
              "  .colab-df-spinner {\n",
              "    border: 2px solid var(--fill-color);\n",
              "    border-color: transparent;\n",
              "    border-bottom-color: var(--fill-color);\n",
              "    animation:\n",
              "      spin 1s steps(1) infinite;\n",
              "  }\n",
              "\n",
              "  @keyframes spin {\n",
              "    0% {\n",
              "      border-color: transparent;\n",
              "      border-bottom-color: var(--fill-color);\n",
              "      border-left-color: var(--fill-color);\n",
              "    }\n",
              "    20% {\n",
              "      border-color: transparent;\n",
              "      border-left-color: var(--fill-color);\n",
              "      border-top-color: var(--fill-color);\n",
              "    }\n",
              "    30% {\n",
              "      border-color: transparent;\n",
              "      border-left-color: var(--fill-color);\n",
              "      border-top-color: var(--fill-color);\n",
              "      border-right-color: var(--fill-color);\n",
              "    }\n",
              "    40% {\n",
              "      border-color: transparent;\n",
              "      border-right-color: var(--fill-color);\n",
              "      border-top-color: var(--fill-color);\n",
              "    }\n",
              "    60% {\n",
              "      border-color: transparent;\n",
              "      border-right-color: var(--fill-color);\n",
              "    }\n",
              "    80% {\n",
              "      border-color: transparent;\n",
              "      border-right-color: var(--fill-color);\n",
              "      border-bottom-color: var(--fill-color);\n",
              "    }\n",
              "    90% {\n",
              "      border-color: transparent;\n",
              "      border-bottom-color: var(--fill-color);\n",
              "    }\n",
              "  }\n",
              "</style>\n",
              "\n",
              "  <script>\n",
              "    async function quickchart(key) {\n",
              "      const quickchartButtonEl =\n",
              "        document.querySelector('#' + key + ' button');\n",
              "      quickchartButtonEl.disabled = true;  // To prevent multiple clicks.\n",
              "      quickchartButtonEl.classList.add('colab-df-spinner');\n",
              "      try {\n",
              "        const charts = await google.colab.kernel.invokeFunction(\n",
              "            'suggestCharts', [key], {});\n",
              "      } catch (error) {\n",
              "        console.error('Error during call to suggestCharts:', error);\n",
              "      }\n",
              "      quickchartButtonEl.classList.remove('colab-df-spinner');\n",
              "      quickchartButtonEl.classList.add('colab-df-quickchart-complete');\n",
              "    }\n",
              "    (() => {\n",
              "      let quickchartButtonEl =\n",
              "        document.querySelector('#df-2cbd391e-5c06-4a55-a06f-3b6ca6f6f218 button');\n",
              "      quickchartButtonEl.style.display =\n",
              "        google.colab.kernel.accessAllowed ? 'block' : 'none';\n",
              "    })();\n",
              "  </script>\n",
              "</div>\n",
              "    </div>\n",
              "  </div>\n"
            ]
          },
          "metadata": {},
          "execution_count": 4
        }
      ],
      "source": [
        "df['extent'] = df['extent'].astype(int)/100.0\n",
        "df.head()"
      ]
    },
    {
      "cell_type": "code",
      "source": [
        "import matplotlib.pyplot as plt\n",
        "\n",
        "plt.hist(df['extent'], bins=30)\n",
        "plt.title('Distribución de variable respuesta')\n",
        "plt.xlabel('Extent')\n",
        "plt.ylabel('Frequencia')\n",
        "plt.show()"
      ],
      "metadata": {
        "id": "gb0L-OAtbSbh",
        "colab": {
          "base_uri": "https://localhost:8080/",
          "height": 472
        },
        "outputId": "66e5500e-0567-4e43-baea-998dcd7c0174"
      },
      "execution_count": 5,
      "outputs": [
        {
          "output_type": "display_data",
          "data": {
            "text/plain": [
              "<Figure size 640x480 with 1 Axes>"
            ],
            "image/png": "[encoded data removed]"
          },
          "metadata": {}
        }
      ]
    },
    {
      "cell_type": "code",
      "source": [
        "df['extent'].describe()"
      ],
      "metadata": {
        "id": "jEVEY1b2d0uO",
        "colab": {
          "base_uri": "https://localhost:8080/"
        },
        "outputId": "7d2ecdc4-6769-4e4d-93a0-00a74c57d985"
      },
      "execution_count": 6,
      "outputs": [
        {
          "output_type": "execute_result",
          "data": {
            "text/plain": [
              "count    26106.000000\n",
              "mean         0.153796\n",
              "std          0.204993\n",
              "min          0.000000\n",
              "25%          0.000000\n",
              "50%          0.100000\n",
              "75%          0.200000\n",
              "max          1.000000\n",
              "Name: extent, dtype: float64"
            ]
          },
          "metadata": {},
          "execution_count": 6
        }
      ]
    },
    {
      "cell_type": "code",
      "execution_count": 7,
      "metadata": {
        "id": "A2kZjiZoeitr"
      },
      "outputs": [],
      "source": [
        "import os\n",
        "import pathlib\n",
        "import matplotlib.pyplot as plt\n",
        "import numpy as np\n",
        "import PIL\n",
        "import tensorflow as tf\n",
        "from tensorflow import keras\n",
        "from tensorflow.keras import layers\n",
        "from tensorflow.keras.models import Sequential\n",
        "from tensorflow.keras.callbacks import EarlyStopping\n",
        "\n",
        "import shutil\n",
        "\n",
        "\n",
        "image_dir = drive_path + '/train'"
      ]
    },
    {
      "cell_type": "markdown",
      "metadata": {
        "id": "iaK8GhJgfb4b"
      },
      "source": [
        "## Obtener imágenes"
      ]
    },
    {
      "cell_type": "code",
      "execution_count": 10,
      "metadata": {
        "id": "9E0L6otqfPGR",
        "colab": {
          "base_uri": "https://localhost:8080/"
        },
        "outputId": "80d58c28-5887-42f8-eea3-edaff8afd2c5"
      },
      "outputs": [
        {
          "output_type": "stream",
          "name": "stdout",
          "text": [
            "Number of files in the directory: 19292\n"
          ]
        }
      ],
      "source": [
        "import pathlib\n",
        "\n",
        "# Create a Path object for the directory\n",
        "dir_path = pathlib.Path(image_dir)\n",
        "\n",
        "# Use glob to list all files in the directory\n",
        "files = list(dir_path.glob('*.*'))\n",
        "\n",
        "# Count the number of files\n",
        "file_count = len(files)\n",
        "\n",
        "print(\"Number of files in the directory:\", file_count)"
      ]
    },
    {
      "cell_type": "code",
      "source": [
        "img_height=64\n",
        "img_width=64\n",
        "batch_size=32\n",
        "\n",
        "train_ds = tf.keras.utils.image_dataset_from_directory(\n",
        "  image_dir,\n",
        "  seed=123,\n",
        "  image_size=(img_height, img_width),\n",
        "  validation_split=0.2,\n",
        "  subset=\"training\",\n",
        "  batch_size=batch_size)"
      ],
      "metadata": {
        "id": "0ZkGO-2yhzx1",
        "colab": {
          "base_uri": "https://localhost:8080/"
        },
        "outputId": "f68e106d-01a4-4953-ebad-efcb9fe21c9e"
      },
      "execution_count": 11,
      "outputs": [
        {
          "output_type": "stream",
          "name": "stdout",
          "text": [
            "Found 19289 files belonging to 11 classes.\n",
            "Using 15432 files for training.\n"
          ]
        }
      ]
    },
    {
      "cell_type": "code",
      "source": [
        "y_train = []\n",
        "for _, labels in train_ds: y_train.extend(labels.numpy())\n"
      ],
      "metadata": {
        "id": "sScT3kv8lhaO"
      },
      "execution_count": 16,
      "outputs": []
    },
    {
      "cell_type": "code",
      "source": [
        "from sklearn.utils.class_weight import compute_class_weight\n",
        "class_weights_222 = compute_class_weight(class_weight='balanced', classes=np.unique(y_train), y=y_train)\n",
        "class_weights_dict = dict(zip(np.unique(y_train), class_weights_222))"
      ],
      "metadata": {
        "id": "yngN7yJfmBSN"
      },
      "execution_count": 17,
      "outputs": []
    },
    {
      "cell_type": "code",
      "source": [
        "categories_count = np.zeros(len(train_ds.class_names), dtype=int)\n",
        "\n",
        "for _, labels in train_ds:\n",
        "    unique, count = np.unique(labels.numpy(), return_counts=True)\n",
        "    categories_count[unique] += count\n",
        "\n",
        "total = categories_count.sum()\n",
        "\n",
        "print('Distribution:\\n')\n",
        "for categorie, count in enumerate(categories_count):\n",
        "    class_name = train_ds.class_names[categorie]\n",
        "    print(f'{class_name}: {count} ({100 * count / total:.2f}%)')\n"
      ],
      "metadata": {
        "id": "X9anQ9iF--dT",
        "colab": {
          "base_uri": "https://localhost:8080/"
        },
        "outputId": "ac9d0cce-16d3-4610-b01f-aeac75f49b6a"
      },
      "execution_count": 18,
      "outputs": [
        {
          "output_type": "stream",
          "name": "stdout",
          "text": [
            "Distribution:\n",
            "\n",
            "0: 6840 (44.32%)\n",
            "1: 3034 (19.66%)\n",
            "10: 27 (0.17%)\n",
            "2: 1878 (12.17%)\n",
            "3: 1373 (8.90%)\n",
            "4: 935 (6.06%)\n",
            "5: 454 (2.94%)\n",
            "6: 314 (2.03%)\n",
            "7: 201 (1.30%)\n",
            "8: 193 (1.25%)\n",
            "9: 183 (1.19%)\n"
          ]
        }
      ]
    },
    {
      "cell_type": "code",
      "source": [
        "train_ds_class_names = train_ds.class_names\n",
        "class_weights = { train_ds_class_names[i]: (1 / count) * (total / 2.0) for i, count in enumerate(categories_count) }\n",
        "\n",
        "print('Class weights:')\n",
        "for class_label, weight in class_weights.items(): print(f'Class {class_label}: weight {weight:.3f}')\n",
        "\n",
        "class_weights = {int(k): v for k, v in class_weights.items()}\n"
      ],
      "metadata": {
        "id": "gLCJnGa4Ivtc",
        "colab": {
          "base_uri": "https://localhost:8080/"
        },
        "outputId": "e3ec8feb-3fc3-4f4a-f826-db2a1ced6889"
      },
      "execution_count": 19,
      "outputs": [
        {
          "output_type": "stream",
          "name": "stdout",
          "text": [
            "Class weights:\n",
            "Class 0: weight 1.128\n",
            "Class 1: weight 2.543\n",
            "Class 10: weight 285.778\n",
            "Class 2: weight 4.109\n",
            "Class 3: weight 5.620\n",
            "Class 4: weight 8.252\n",
            "Class 5: weight 16.996\n",
            "Class 6: weight 24.573\n",
            "Class 7: weight 38.388\n",
            "Class 8: weight 39.979\n",
            "Class 9: weight 42.164\n"
          ]
        }
      ]
    },
    {
      "cell_type": "code",
      "execution_count": 20,
      "metadata": {
        "id": "UPQenCFlxN6Y",
        "colab": {
          "base_uri": "https://localhost:8080/"
        },
        "outputId": "6c8a4ec7-7c23-43fb-e3b8-979f57790239"
      },
      "outputs": [
        {
          "output_type": "stream",
          "name": "stdout",
          "text": [
            "Found 19289 files belonging to 11 classes.\n",
            "Using 3857 files for validation.\n"
          ]
        }
      ],
      "source": [
        "val_ds = tf.keras.utils.image_dataset_from_directory(\n",
        "  image_dir,\n",
        "  validation_split=0.2,\n",
        "  subset=\"validation\",\n",
        "  seed=123,\n",
        "  image_size=(img_height, img_width),\n",
        "  batch_size=batch_size)"
      ]
    },
    {
      "cell_type": "code",
      "source": [
        "import tensorflow as tf\n",
        "from tensorflow.keras.callbacks import EarlyStopping\n",
        "\n",
        "\n",
        "data_augmentation = keras.Sequential(\n",
        "  [\n",
        "    layers.RandomFlip(\"horizontal\",\n",
        "                      input_shape=(img_height,\n",
        "                                  img_width,\n",
        "                                  3)),\n",
        "    layers.RandomRotation(0.1),\n",
        "    layers.RandomZoom(0.1),\n",
        "  ]\n",
        ")\n",
        "\n",
        "norm_layer = layers.Rescaling(1./255)\n",
        "model = tf.keras.Sequential([\n",
        "    data_augmentation,\n",
        "    norm_layer,\n",
        "    tf.keras.layers.Conv2D(filters=32, kernel_size=(3, 3), activation='relu', input_shape=(img_height, img_width, 3)),\n",
        "    tf.keras.layers.MaxPooling2D(),\n",
        "    tf.keras.layers.Conv2D(filters=64, kernel_size=(3, 3), activation='relu'),\n",
        "    tf.keras.layers.MaxPooling2D(),\n",
        "    tf.keras.layers.Conv2D(filters=128, kernel_size=(3, 3), activation='relu'),\n",
        "    tf.keras.layers.Flatten(),\n",
        "    tf.keras.layers.Dense(units=64, activation='tanh'),\n",
        "    tf.keras.layers.Dense(1)\n",
        "])\n",
        "\n",
        "#early_stopping = EarlyStopping(monitor='val_loss', patience=3, mode='min', restore_best_weights=True)\n",
        "model.compile(optimizer='adam', loss='mean_squared_error', metrics=['mean_squared_error', 'mean_absolute_error',])\n",
        "history = model.fit(train_ds, epochs=25, validation_data=val_ds, verbose=1, class_weight=class_weights_dict)\n"
      ],
      "metadata": {
        "id": "c7ATLw9zBAkY",
        "colab": {
          "base_uri": "https://localhost:8080/"
        },
        "outputId": "32a9772c-ce03-4a35-bf53-c08b941e761c"
      },
      "execution_count": 32,
      "outputs": [
        {
          "output_type": "stream",
          "name": "stdout",
          "text": [
            "Epoch 1/25\n",
            "483/483 [==============================] - 76s 151ms/step - loss: 10.3464 - mean_squared_error: 15.9588 - mean_absolute_error: 3.5903 - val_loss: 16.0542 - val_mean_squared_error: 16.0542 - val_mean_absolute_error: 3.6203\n",
            "Epoch 2/25\n",
            "483/483 [==============================] - 75s 153ms/step - loss: 10.0573 - mean_squared_error: 15.6029 - mean_absolute_error: 3.5717 - val_loss: 16.2647 - val_mean_squared_error: 16.2647 - val_mean_absolute_error: 3.6476\n",
            "Epoch 3/25\n",
            "483/483 [==============================] - 75s 153ms/step - loss: 10.1013 - mean_squared_error: 15.5285 - mean_absolute_error: 3.5626 - val_loss: 16.7022 - val_mean_squared_error: 16.7022 - val_mean_absolute_error: 3.7026\n",
            "Epoch 4/25\n",
            "483/483 [==============================] - 74s 150ms/step - loss: 10.0632 - mean_squared_error: 15.6535 - mean_absolute_error: 3.5782 - val_loss: 15.4469 - val_mean_squared_error: 15.4469 - val_mean_absolute_error: 3.5407\n",
            "Epoch 5/25\n",
            "483/483 [==============================] - 74s 151ms/step - loss: 10.0547 - mean_squared_error: 15.5857 - mean_absolute_error: 3.5698 - val_loss: 16.2956 - val_mean_squared_error: 16.2956 - val_mean_absolute_error: 3.6512\n",
            "Epoch 6/25\n",
            "483/483 [==============================] - 73s 150ms/step - loss: 10.0735 - mean_squared_error: 15.6231 - mean_absolute_error: 3.5732 - val_loss: 16.0121 - val_mean_squared_error: 16.0121 - val_mean_absolute_error: 3.6148\n",
            "Epoch 7/25\n",
            "483/483 [==============================] - 75s 153ms/step - loss: 10.0473 - mean_squared_error: 15.5854 - mean_absolute_error: 3.5688 - val_loss: 15.9500 - val_mean_squared_error: 15.9500 - val_mean_absolute_error: 3.6068\n",
            "Epoch 8/25\n",
            "483/483 [==============================] - 73s 150ms/step - loss: 10.0467 - mean_squared_error: 15.5996 - mean_absolute_error: 3.5719 - val_loss: 16.2725 - val_mean_squared_error: 16.2725 - val_mean_absolute_error: 3.6483\n",
            "Epoch 9/25\n",
            "483/483 [==============================] - 74s 151ms/step - loss: 10.0473 - mean_squared_error: 15.6479 - mean_absolute_error: 3.5768 - val_loss: 15.5035 - val_mean_squared_error: 15.5035 - val_mean_absolute_error: 3.5482\n",
            "Epoch 10/25\n",
            "483/483 [==============================] - 74s 151ms/step - loss: 10.0504 - mean_squared_error: 15.6653 - mean_absolute_error: 3.5783 - val_loss: 15.9591 - val_mean_squared_error: 15.9591 - val_mean_absolute_error: 3.6080\n",
            "Epoch 11/25\n",
            "483/483 [==============================] - 75s 153ms/step - loss: 10.0517 - mean_squared_error: 15.5527 - mean_absolute_error: 3.5656 - val_loss: 16.1444 - val_mean_squared_error: 16.1444 - val_mean_absolute_error: 3.6319\n",
            "Epoch 12/25\n",
            "483/483 [==============================] - 77s 156ms/step - loss: 10.0397 - mean_squared_error: 15.6193 - mean_absolute_error: 3.5735 - val_loss: 16.5291 - val_mean_squared_error: 16.5291 - val_mean_absolute_error: 3.6808\n",
            "Epoch 13/25\n",
            "483/483 [==============================] - 82s 167ms/step - loss: 10.0517 - mean_squared_error: 15.5869 - mean_absolute_error: 3.5697 - val_loss: 15.9915 - val_mean_squared_error: 15.9915 - val_mean_absolute_error: 3.6122\n",
            "Epoch 14/25\n",
            "483/483 [==============================] - 80s 164ms/step - loss: 10.0529 - mean_squared_error: 15.6031 - mean_absolute_error: 3.5715 - val_loss: 16.3944 - val_mean_squared_error: 16.3944 - val_mean_absolute_error: 3.6638\n",
            "Epoch 15/25\n",
            "483/483 [==============================] - 78s 159ms/step - loss: 10.0541 - mean_squared_error: 15.6289 - mean_absolute_error: 3.5749 - val_loss: 15.5061 - val_mean_squared_error: 15.5061 - val_mean_absolute_error: 3.5486\n",
            "Epoch 16/25\n",
            "483/483 [==============================] - 77s 158ms/step - loss: 10.0573 - mean_squared_error: 15.5804 - mean_absolute_error: 3.5695 - val_loss: 15.7615 - val_mean_squared_error: 15.7615 - val_mean_absolute_error: 3.5822\n",
            "Epoch 17/25\n",
            "483/483 [==============================] - 76s 154ms/step - loss: 10.0621 - mean_squared_error: 15.5885 - mean_absolute_error: 3.5708 - val_loss: 16.2193 - val_mean_squared_error: 16.2193 - val_mean_absolute_error: 3.6415\n",
            "Epoch 18/25\n",
            "483/483 [==============================] - 76s 154ms/step - loss: 10.0437 - mean_squared_error: 15.6716 - mean_absolute_error: 3.5799 - val_loss: 15.6652 - val_mean_squared_error: 15.6652 - val_mean_absolute_error: 3.5696\n",
            "Epoch 19/25\n",
            "483/483 [==============================] - 76s 155ms/step - loss: 10.0441 - mean_squared_error: 15.5903 - mean_absolute_error: 3.5704 - val_loss: 16.5049 - val_mean_squared_error: 16.5049 - val_mean_absolute_error: 3.6778\n",
            "Epoch 20/25\n",
            "483/483 [==============================] - 74s 151ms/step - loss: 10.0603 - mean_squared_error: 15.6085 - mean_absolute_error: 3.5713 - val_loss: 16.1554 - val_mean_squared_error: 16.1554 - val_mean_absolute_error: 3.6333\n",
            "Epoch 21/25\n",
            "483/483 [==============================] - 74s 152ms/step - loss: 10.0550 - mean_squared_error: 15.5315 - mean_absolute_error: 3.5629 - val_loss: 16.3506 - val_mean_squared_error: 16.3506 - val_mean_absolute_error: 3.6582\n",
            "Epoch 22/25\n",
            "483/483 [==============================] - 74s 150ms/step - loss: 10.0728 - mean_squared_error: 15.6152 - mean_absolute_error: 3.5722 - val_loss: 16.2506 - val_mean_squared_error: 16.2506 - val_mean_absolute_error: 3.6455\n",
            "Epoch 23/25\n",
            "483/483 [==============================] - 73s 148ms/step - loss: 10.0385 - mean_squared_error: 15.8111 - mean_absolute_error: 3.5958 - val_loss: 19.4128 - val_mean_squared_error: 19.4128 - val_mean_absolute_error: 4.0223\n",
            "Epoch 24/25\n",
            "483/483 [==============================] - 75s 153ms/step - loss: 10.0701 - mean_squared_error: 15.7160 - mean_absolute_error: 3.5860 - val_loss: 15.8315 - val_mean_squared_error: 15.8315 - val_mean_absolute_error: 3.5914\n",
            "Epoch 25/25\n",
            "483/483 [==============================] - 77s 156ms/step - loss: 10.0544 - mean_squared_error: 15.5779 - mean_absolute_error: 3.5681 - val_loss: 16.6687 - val_mean_squared_error: 16.6687 - val_mean_absolute_error: 3.6984\n"
          ]
        }
      ]
    },
    {
      "cell_type": "code",
      "source": [
        "import matplotlib.pyplot as plt\n",
        "\n",
        "train_loss = history.history['loss']\n",
        "val_loss = history.history['val_loss']\n",
        "epochs = range(1, len(train_loss) + 1)\n",
        "\n",
        "plt.plot(epochs, train_loss, label='Training Loss')\n",
        "plt.plot(epochs, val_loss, label='Validation Loss')\n",
        "plt.title('Training and Validation Loss')\n",
        "plt.xlabel('Epochs')\n",
        "plt.ylabel('Loss')\n",
        "plt.legend()\n",
        "\n",
        "plt.show()\n"
      ],
      "metadata": {
        "id": "g4y7FLxUK8zt",
        "colab": {
          "base_uri": "https://localhost:8080/",
          "height": 472
        },
        "outputId": "36e13980-7355-489b-e341-6494671c111d"
      },
      "execution_count": 33,
      "outputs": [
        {
          "output_type": "display_data",
          "data": {
            "text/plain": [
              "<Figure size 640x480 with 1 Axes>"
            ],
            "image/png": "[encoded data removed]"
          },
          "metadata": {}
        }
      ]
    },
    {
      "cell_type": "code",
      "source": [
        "train_mse = history.history['mean_squared_error']\n",
        "val_mse = history.history['val_mean_squared_error']\n",
        "epochs = range(1, len(train_mse) + 1)\n",
        "\n",
        "plt.plot(epochs, train_mse, label='Training MSE')\n",
        "plt.plot(epochs, val_mse, label='Validation MSE')\n",
        "plt.title('Training and Validation MSE')\n",
        "plt.xlabel('Epochs')\n",
        "plt.ylabel('Mean Squared Error')\n",
        "plt.legend()\n",
        "\n",
        "plt.show()\n"
      ],
      "metadata": {
        "id": "Vg3mf-wvcaF2",
        "colab": {
          "base_uri": "https://localhost:8080/",
          "height": 472
        },
        "outputId": "8aca5c71-f2b0-4086-9828-08cbe1a5cd75"
      },
      "execution_count": 34,
      "outputs": [
        {
          "output_type": "display_data",
          "data": {
            "text/plain": [
              "<Figure size 640x480 with 1 Axes>"
            ],
            "image/png": "[encoded data removed]"
          },
          "metadata": {}
        }
      ]
    },
    {
      "cell_type": "code",
      "source": [
        "print(\"Training Loss per Epoch:\", train_loss)\n",
        "print(\"Validation Loss per Epoch:\", val_loss)"
      ],
      "metadata": {
        "id": "BKA5bd1qLIGm",
        "colab": {
          "base_uri": "https://localhost:8080/"
        },
        "outputId": "e8364aac-3ad2-4d8c-b797-46e69ca62b23"
      },
      "execution_count": 35,
      "outputs": [
        {
          "output_type": "stream",
          "name": "stdout",
          "text": [
            "Training Loss per Epoch: [10.34640884399414, 10.057313919067383, 10.101295471191406, 10.063163757324219, 10.054652214050293, 10.073471069335938, 10.047327041625977, 10.04670524597168, 10.04728889465332, 10.050387382507324, 10.051734924316406, 10.039742469787598, 10.05168342590332, 10.052851676940918, 10.054120063781738, 10.05725383758545, 10.062118530273438, 10.043669700622559, 10.044065475463867, 10.060263633728027, 10.0549898147583, 10.072808265686035, 10.038472175598145, 10.070060729980469, 10.05444049835205]\n",
            "Validation Loss per Epoch: [16.054162979125977, 16.26466178894043, 16.70223045349121, 15.446864128112793, 16.295616149902344, 16.01209831237793, 15.949976921081543, 16.27250862121582, 15.5034818649292, 15.959074020385742, 16.14440155029297, 16.529050827026367, 15.99146556854248, 16.394439697265625, 15.50611686706543, 15.761490821838379, 16.21929168701172, 15.665217399597168, 16.504940032958984, 16.155405044555664, 16.350557327270508, 16.250619888305664, 19.412796020507812, 15.831452369689941, 16.66866111755371]\n"
          ]
        }
      ]
    },
    {
      "cell_type": "code",
      "source": [
        "model_path = 'weighted_categories_model.keras'\n",
        "model.save(model_path)"
      ],
      "metadata": {
        "id": "yXaL4FBZaau-"
      },
      "execution_count": 36,
      "outputs": []
    },
    {
      "cell_type": "code",
      "source": [
        "import tensorflow as tf\n",
        "\n",
        "model_path = 'weighted_categories_model.keras'\n",
        "loaded_model = tf.keras.models.load_model(model_path)\n",
        "\n",
        "loaded_model.save('weighted_categories_model.h5')\n"
      ],
      "metadata": {
        "id": "gRtk547NgzwJ",
        "colab": {
          "base_uri": "https://localhost:8080/"
        },
        "outputId": "d41eb787-97e3-4869-e9b8-e339496b0cfb"
      },
      "execution_count": 28,
      "outputs": [
        {
          "output_type": "stream",
          "name": "stderr",
          "text": [
            "/usr/local/lib/python3.10/dist-packages/keras/src/engine/training.py:3079: UserWarning: You are saving your model as an HDF5 file via `model.save()`. This file format is considered legacy. We recommend using instead the native Keras format, e.g. `model.save('my_model.keras')`.\n",
            "  saving_api.save_model(\n"
          ]
        }
      ]
    },
    {
      "cell_type": "code",
      "source": [
        "from tensorflow.keras.preprocessing import image\n",
        "import numpy as np\n",
        "\n",
        "def img_regression(img_dir):\n",
        "  img_height=64\n",
        "  img_width=64\n",
        "\n",
        "  img = tf.expand_dims(\n",
        "          tf.image.resize(\n",
        "            tf.image.decode_jpeg(\n",
        "              tf.io.read_file(img_dir), channels=3), [img_height, img_width]) / 255.0, 0)\n",
        "  return model.predict(img)\n"
      ],
      "metadata": {
        "id": "kb4OQbjt6OAO"
      },
      "execution_count": 29,
      "outputs": []
    },
    {
      "cell_type": "code",
      "source": [
        "img_dir = '11_repeat_2_2416_5427_3808.JPG'\n",
        "result = img_regression(img_dir)\n",
        "print(result)"
      ],
      "metadata": {
        "id": "6RowIsba_zc6",
        "colab": {
          "base_uri": "https://localhost:8080/"
        },
        "outputId": "31e8b1fd-aa6a-4b1e-aac8-d188338b3b7d"
      },
      "execution_count": 37,
      "outputs": [
        {
          "output_type": "stream",
          "name": "stdout",
          "text": [
            "1/1 [==============================] - 0s 172ms/step\n",
            "[[5.200368]]\n"
          ]
        }
      ]
    }
  ],
  "metadata": {
    "accelerator": "GPU",
    "colab": {
      "provenance": [],
      "gpuType": "T4",
      "machine_shape": "hm"
    },
    "kernelspec": {
      "display_name": "Python 3",
      "name": "python3"
    },
    "language_info": {
      "name": "python"
    }
  },
  "nbformat": 4,
  "nbformat_minor": 0
}